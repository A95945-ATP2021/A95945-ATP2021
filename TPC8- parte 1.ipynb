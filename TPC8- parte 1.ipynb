{
 "cells": [
  {
   "cell_type": "markdown",
   "metadata": {},
   "source": [
    "## TPC8\n",
    "\n",
    "__identificador__: TPC8\n",
    "\n",
    "__título__: Processamento de datasets;\n",
    "\n",
    "__autor__: Sara Isabel Muga Vieira, A95945;\n",
    "\n",
    "__Supervisor__: José Carlos Ramalho, https://www.di.uminho.pt/~jcr/thesup-v2.php\n",
    "\n",
    "__data início__: 2021-11-29;\n",
    "\n",
    "__data fim__: 2021-12-06\n",
    "\n",
    "__resumo__:O objetivo deste trabalho prende-se na realização de exerícios sobre leitura de datasets, seu processamento e produção de dados estatísticos, nomeadamente dados estatísticos relativamente à distribuição por modalidades e outra, cujo parâmetro seria fornecido pelo usuário (distribuicao parametrizada geral). Para além disso, foi indicado pelo professor, a realização de um módulo composto por uma interface gráfica com funções realizadas neste ficheiro (o qual não foi realizado com sucesso)."
   ]
  },
  {
   "cell_type": "markdown",
   "metadata": {},
   "source": [
    "## Dataset\n",
    "\n",
    "Para a resolução dos exercícios desta ficha, descarrega o dataset de exames médicos desportivos do site da UC.\n",
    "\n",
    "### Estrutura do dataset\n",
    "O dataset tem a seguinte estrutura:\n",
    "\n",
    "```\n",
    "_id,index,dataEMD,nome/primeiro,nome/último,idade,género,morada,modalidade,clube,email,federado,resultado\n",
    "6045074cd77860ac9483d34e,0,2020-02-25,Delgado,Gay,28,F,Gloucester,BTT,ACRroriz,delgado.gay@acrroriz.biz,true,true\n",
    "6045074ca6adebd591b5d239,1,2019-07-31,Foreman,Prince,34,M,Forestburg,Ciclismo,ACDRcrespos,foreman.prince@acdrcrespos.org,false,true\n",
    "6045074c221e2fdf430e9ef0,2,2021-01-06,Cheryl,Berger,21,M,Umapine,Basquetebol,Vitoria,cheryl.berger@vitoria.biz,false,true\n",
    "6045074c529cbdce549d3923,3,2020-11-19,Graves,Goff,29,F,Babb,Andebol,AVCfamalicão,graves.goff@avcfamalicão.co.uk,false,false\n",
    "6045074c3319a0f9e79aad87,4,2019-09-01,Mckay,Bolton,29,F,Chilton,Futebol,ACDRcrespos,mckay.bolton@acdrcrespos.me,false,false\n",
    "6045074c222607e7520ffd24,5,2019-10-07,Marla,Kelley,22,M,Clarence,Atletismo,AmigosMontanha,marla.kelley@amigosmontanha.tv,false,false\n",
    "\n",
    "...\n",
    "```"
   ]
  },
  {
   "cell_type": "markdown",
   "metadata": {},
   "source": [
    "## Leitura (exercício 1)\n",
    "\n",
    "Depois de pensares num modelo adequado especifica a função que lê o ficheiro e povoa esse modelo.\n",
    "\n",
    "Nota: os valores do campo id são demasiado complexos para serem usados na aplicação pelo utilizador.\n",
    "\n",
    "Ideia: Cria ids novos, mais simples, tipo: emd00001, emd00002, ..., emd00100, ..."
   ]
  },
  {
   "cell_type": "code",
   "execution_count": 4,
   "metadata": {},
   "outputs": [],
   "source": [
    "# Descreve em texto o teu \n",
    "# \n",
    "# BdEMD = [EMD]\n",
    "# EMD = [...]\n",
    "#\n",
    "# Leitura/carregamento da informação do ficheiro\n",
    "\n",
    "def getEMD(linha):\n",
    "    emd=[]\n",
    "    novalinha=linha.strip(\"\\n\")\n",
    "    campos=novalinha.split(\",\")\n",
    "    emd.append (\"emd\"+str(int(campos[1]+1)))#adiciona o índice na lista emd, como sendo o campo 0.\n",
    "    for i in range (2,len(campos)):\n",
    "        emd.append (campos[i])\n",
    "    return (emd)\n",
    "    \n",
    "\n",
    "def lerDataset(fnome):\n",
    "    f = open(fnome, encoding=\"utf-8\")\n",
    "    bd = []\n",
    "    f.readline()\n",
    "    for linha in f:\n",
    "            subbd=[]\n",
    "            a=linha.replace(\"\\n\",\"\")\n",
    "            b=a.split(\",\")\n",
    "            d=str(int(b[1])+1)\n",
    "            b[0]=str(\"emd\"+(str(d.zfill(5)))) # para deixar da forma emd00003, por exemplo. acrescenta 0 a esquerda até obter 5 carateres\n",
    "            for i in range (0,13):\n",
    "                if i !=1:\n",
    "                    subbd.append(b[i])\n",
    "            bd.append(subbd)\n",
    "    return bd"
   ]
  },
  {
   "cell_type": "code",
   "execution_count": 5,
   "metadata": {},
   "outputs": [
    {
     "name": "stdout",
     "output_type": "stream",
     "text": [
      "[['emd00001', '2020-02-25', 'Delgado', 'Gay', '28', 'F', 'Gloucester', 'BTT', 'ACRroriz', 'delgado.gay@acrroriz.biz', 'true', 'true'], ['emd00002', '2019-07-31', 'Foreman', 'Prince', '34', 'M', 'Forestburg', 'Ciclismo', 'ACDRcrespos', 'foreman.prince@acdrcrespos.org', 'false', 'true'], ['emd00003', '2021-01-06', 'Cheryl', 'Berger', '21', 'M', 'Umapine', 'Basquetebol', 'Vitoria', 'cheryl.berger@vitoria.biz', 'false', 'true'], ['emd00004', '2020-11-19', 'Graves', 'Goff', '29', 'F', 'Babb', 'Andebol', 'AVCfamalicão', 'graves.goff@avcfamalicão.co.uk', 'false', 'false'], ['emd00005', '2019-09-01', 'Mckay', 'Bolton', '29', 'F', 'Chilton', 'Futebol', 'ACDRcrespos', 'mckay.bolton@acdrcrespos.me', 'false', 'false'], ['emd00006', '2019-10-07', 'Marla', 'Kelley', '22', 'M', 'Clarence', 'Atletismo', 'AmigosMontanha', 'marla.kelley@amigosmontanha.tv', 'false', 'false'], ['emd00007', '2020-12-11', 'Merrill', 'Maddox', '34', 'M', 'Roderfield', 'Equitação', 'ACRroriz', 'merrill.maddox@acrroriz.com', 'false', 'true'], ['emd00008', '2019-03-12', 'Nikki', 'Calderon', '22', 'F', 'Brethren', 'Patinagem', 'EDViana', 'nikki.calderon@edviana.name', 'true', 'false'], ['emd00009', '2020-12-09', 'Lucia', 'Bright', '35', 'F', 'Onton', 'Orientação', 'GDGoma', 'lucia.bright@gdgoma.info', 'true', 'false'], ['emd00010', '2020-01-26', 'Faith', 'Wells', '31', 'F', 'Grantville', 'Basquetebol', 'EDViana', 'faith.wells@edviana.ca', 'true', 'true'], ['emd00011', '2019-03-29', 'Milagros', 'Osborn', '22', 'M', 'Dunlo', 'Patinagem', 'GDGoma', 'milagros.osborn@gdgoma.io', 'false', 'false'], ['emd00012', '2019-09-08', 'Valentine', 'Sellers', '27', 'F', 'Odessa', 'Patinagem', 'EDViana', 'valentine.sellers@edviana.net', 'true', 'true'], ['emd00013', '2019-05-10', 'Martha', 'Hyde', '26', 'M', 'Dupuyer', 'Triatlo', 'Vitoria', 'martha.hyde@vitoria.biz', 'false', 'false'], ['emd00014', '2019-04-22', 'Beck', 'Stevenson', '35', 'F', 'Barclay', 'Dança', 'SCBraga', 'beck.stevenson@scbraga.org', 'true', 'false'], ['emd00015', '2019-05-05', 'Lester', 'Strong', '21', 'M', 'Freetown', 'Patinagem', 'GDGoma', 'lester.strong@gdgoma.biz', 'false', 'false'], ['emd00016', '2020-03-19', 'Sharon', 'Bradley', '30', 'M', 'Hiseville', 'Futebol', 'AVCfamalicão', 'sharon.bradley@avcfamalicão.co.uk', 'true', 'false'], ['emd00017', '2019-07-30', 'Waters', 'Dale', '32', 'M', 'Bakersville', 'Andebol', 'ABCbraga', 'waters.dale@abcbraga.me', 'false', 'false'], ['emd00018', '2019-07-27', 'Rebekah', 'Mayer', '32', 'F', 'Woodlake', 'Atletismo', 'ABCbraga', 'rebekah.mayer@abcbraga.tv', 'false', 'false'], ['emd00019', '2020-04-19', 'Isabella', 'Howell', '28', 'M', 'Hanover', 'Basquetebol', 'AVCfamalicão', 'isabella.howell@avcfamalicão.com', 'false', 'false'], ['emd00020', '2019-12-28', 'Lela', 'Barnes', '31', 'F', 'Sultana', 'Karaté', 'EDViana', 'lela.barnes@edviana.name', 'false', 'true'], ['emd00021', '2020-09-22', 'Eunice', 'Hunter', '33', 'F', 'Orick', 'Basquetebol', 'ACDRcrespos', 'eunice.hunter@acdrcrespos.info', 'false', 'true'], ['emd00022', '2020-09-26', 'Samantha', 'Romero', '28', 'F', 'Gadsden', 'BTT', 'Vitoria', 'samantha.romero@vitoria.ca', 'false', 'true'], ['emd00023', '2019-02-27', 'Langley', 'Mcbride', '29', 'F', 'Spelter', 'Equitação', 'AVCfamalicão', 'langley.mcbride@avcfamalicão.io', 'false', 'false'], ['emd00024', '2021-02-25', 'Castro', 'Weber', '31', 'M', 'Greenfields', 'Basquetebol', 'EDViana', 'castro.weber@edviana.net', 'false', 'false'], ['emd00025', '2019-09-29', 'Logan', 'Kane', '26', 'M', 'Vale', 'Basquetebol', 'AVCfamalicão', 'logan.kane@avcfamalicão.biz', 'true', 'true'], ['emd00026', '2020-01-27', 'Ina', 'Robles', '34', 'F', 'Succasunna', 'Ciclismo', 'AmigosMontanha', 'ina.robles@amigosmontanha.org', 'true', 'false'], ['emd00027', '2019-03-14', 'Laverne', 'Hays', '31', 'F', 'Coinjock', 'Badminton', 'ACRroriz', 'laverne.hays@acrroriz.biz', 'true', 'false'], ['emd00028', '2019-01-28', 'Haley', 'Estes', '21', 'F', 'Basye', 'Futebol', 'AmigosMontanha', 'haley.estes@amigosmontanha.co.uk', 'false', 'true'], ['emd00029', '2019-02-12', 'Munoz', 'Meyers', '32', 'F', 'Jackpot', 'BTT', 'GDGoma', 'munoz.meyers@gdgoma.me', 'true', 'true'], ['emd00030', '2020-02-05', 'Vaughan', 'Herman', '29', 'M', 'Orason', 'Triatlo', 'Vitoria', 'vaughan.herman@vitoria.tv', 'false', 'true'], ['emd00031', '2021-01-18', 'Freida', 'Mcneil', '32', 'M', 'Duryea', 'Patinagem', 'SCBraga', 'freida.mcneil@scbraga.com', 'false', 'false'], ['emd00032', '2019-11-09', 'Emilia', 'Rosales', '32', 'F', 'Tivoli', 'Dança', 'ACRroriz', 'emilia.rosales@acrroriz.name', 'false', 'false'], ['emd00033', '2020-11-03', 'Julianne', 'Powell', '29', 'F', 'Alleghenyville', 'Andebol', 'ACRroriz', 'julianne.powell@acrroriz.info', 'false', 'false'], ['emd00034', '2020-05-03', 'Aisha', 'Riddle', '33', 'M', 'Holtville', 'Triatlo', 'EDViana', 'aisha.riddle@edviana.ca', 'true', 'true'], ['emd00035', '2019-01-13', 'Elisa', 'Bernard', '26', 'F', 'Alfarata', 'Futebol', 'EDViana', 'elisa.bernard@edviana.io', 'false', 'true'], ['emd00036', '2019-05-01', 'Freeman', 'Diaz', '24', 'F', 'Brutus', 'Esgrima', 'ABCbraga', 'freeman.diaz@abcbraga.net', 'true', 'false'], ['emd00037', '2019-10-22', 'Dawson', 'Mayo', '25', 'M', 'Roland', 'Parapente', 'ACDRcrespos', 'dawson.mayo@acdrcrespos.biz', 'false', 'false'], ['emd00038', '2019-05-30', 'Castaneda', 'Kennedy', '23', 'F', 'Sparkill', 'Equitação', 'Vitoria', 'castaneda.kennedy@vitoria.org', 'false', 'true'], ['emd00039', '2020-02-28', 'Elma', 'Estrada', '32', 'F', 'Tetherow', 'Andebol', 'EDViana', 'elma.estrada@edviana.biz', 'true', 'true'], ['emd00040', '2020-06-29', 'Miranda', 'Powers', '29', 'M', 'Soham', 'BTT', 'ACDRcrespos', 'miranda.powers@acdrcrespos.co.uk', 'true', 'false'], ['emd00041', '2019-03-23', 'Rosalind', 'Michael', '21', 'F', 'Cloverdale', 'Dança', 'ACDRcrespos', 'rosalind.michael@acdrcrespos.me', 'true', 'true'], ['emd00042', '2020-11-13', 'Hardin', 'Mejia', '35', 'M', 'Inkerman', 'Futebol', 'Vitoria', 'hardin.mejia@vitoria.tv', 'false', 'true'], ['emd00043', '2019-09-15', 'Vivian', 'Pope', '32', 'M', 'Bayview', 'Parapente', 'ACRroriz', 'vivian.pope@acrroriz.com', 'true', 'true'], ['emd00044', '2019-11-02', 'Vang', 'George', '35', 'F', 'Rivers', 'Atletismo', 'AVCfamalicão', 'vang.george@avcfamalicão.name', 'true', 'true'], ['emd00045', '2020-02-09', 'Leanne', 'Barron', '24', 'F', 'Boling', 'Badminton', 'ABCbraga', 'leanne.barron@abcbraga.info', 'false', 'true'], ['emd00046', '2020-01-26', 'Jeanie', 'Cantrell', '23', 'F', 'Nord', 'Ciclismo', 'EDViana', 'jeanie.cantrell@edviana.ca', 'false', 'true'], ['emd00047', '2020-05-31', 'Lott', 'Robertson', '27', 'F', 'Hannasville', 'BTT', 'SCBraga', 'lott.robertson@scbraga.io', 'true', 'false'], ['emd00048', '2019-07-15', 'Tami', 'Lawrence', '33', 'M', 'Crumpler', 'Andebol', 'AVCfamalicão', 'tami.lawrence@avcfamalicão.net', 'true', 'true'], ['emd00049', '2019-09-24', 'Myrna', 'Guerrero', '21', 'F', 'Bentonville', 'Atletismo', 'Vitoria', 'myrna.guerrero@vitoria.biz', 'true', 'true'], ['emd00050', '2019-05-27', 'Mari', 'Collier', '22', 'F', 'Magnolia', 'Basquetebol', 'EDViana', 'mari.collier@edviana.org', 'false', 'false'], ['emd00051', '2019-02-04', 'Lisa', 'Ford', '23', 'M', 'Topanga', 'Equitação', 'AmigosMontanha', 'lisa.ford@amigosmontanha.biz', 'false', 'true'], ['emd00052', '2020-07-03', 'Brigitte', 'Yates', '22', 'F', 'Crucible', 'Karaté', 'AVCfamalicão', 'brigitte.yates@avcfamalicão.co.uk', 'false', 'true'], ['emd00053', '2020-12-17', 'Lora', 'Ward', '29', 'M', 'Chelsea', 'BTT', 'Vitoria', 'lora.ward@vitoria.me', 'false', 'true'], ['emd00054', '2020-01-21', 'Robbins', 'Walsh', '30', 'F', 'Holcombe', 'BTT', 'Vitoria', 'robbins.walsh@vitoria.tv', 'true', 'true'], ['emd00055', '2020-02-25', 'Kristina', 'Brock', '22', 'F', 'Carbonville', 'Esgrima', 'EDViana', 'kristina.brock@edviana.com', 'false', 'false'], ['emd00056', '2020-12-28', 'Kathie', 'Preston', '23', 'F', 'Snyderville', 'Triatlo', 'AmigosMontanha', 'kathie.preston@amigosmontanha.name', 'true', 'false'], ['emd00057', '2020-09-04', 'Hollie', 'Solis', '21', 'M', 'Edgewater', 'Futebol', 'Vitoria', 'hollie.solis@vitoria.info', 'false', 'false'], ['emd00058', '2020-12-31', 'Maritza', 'Kaufman', '29', 'M', 'Hall', 'Karaté', 'ACRroriz', 'maritza.kaufman@acrroriz.ca', 'false', 'true'], ['emd00059', '2019-10-25', 'Graciela', 'Carney', '28', 'M', 'Ilchester', 'Basquetebol', 'AmigosMontanha', 'graciela.carney@amigosmontanha.io', 'true', 'false'], ['emd00060', '2019-03-12', 'Deirdre', 'Higgins', '31', 'M', 'Clayville', 'Ciclismo', 'SCBraga', 'deirdre.higgins@scbraga.net', 'false', 'true'], ['emd00061', '2020-03-09', 'Wilson', 'Tucker', '27', 'M', 'Rutherford', 'Futebol', 'EDViana', 'wilson.tucker@edviana.biz', 'false', 'false'], ['emd00062', '2019-06-10', 'Mcdowell', 'Church', '31', 'M', 'Yardville', 'Badminton', 'ACRroriz', 'mcdowell.church@acrroriz.org', 'true', 'true'], ['emd00063', '2020-09-01', 'Marie', 'Craft', '28', 'F', 'Barstow', 'Atletismo', 'GDGoma', 'marie.craft@gdgoma.biz', 'true', 'true'], ['emd00064', '2019-12-27', 'Robbie', 'Bailey', '23', 'F', 'Blende', 'BTT', 'AmigosMontanha', 'robbie.bailey@amigosmontanha.co.uk', 'false', 'false'], ['emd00065', '2019-08-03', 'Chandra', 'Edwards', '24', 'M', 'Homestead', 'Futebol', 'ABCbraga', 'chandra.edwards@abcbraga.me', 'false', 'false'], ['emd00066', '2020-11-07', 'Miller', 'Rojas', '35', 'M', 'Cherokee', 'Dança', 'ABCbraga', 'miller.rojas@abcbraga.tv', 'false', 'false'], ['emd00067', '2020-02-27', 'Banks', 'Guerra', '34', 'M', 'Takilma', 'Ciclismo', 'SCBraga', 'banks.guerra@scbraga.com', 'false', 'false'], ['emd00068', '2019-11-24', 'Carmella', 'Shaw', '23', 'M', 'Goldfield', 'BTT', 'SCBraga', 'carmella.shaw@scbraga.name', 'true', 'false'], ['emd00069', '2019-09-09', 'Tania', 'Sargent', '27', 'M', 'Allentown', 'Basquetebol', 'AVCfamalicão', 'tania.sargent@avcfamalicão.info', 'false', 'false'], ['emd00070', '2019-01-13', 'Agnes', 'Graham', '31', 'M', 'Hebron', 'Orientação', 'ABCbraga', 'agnes.graham@abcbraga.ca', 'false', 'false'], ['emd00071', '2019-05-23', 'Kristi', 'Melton', '25', 'M', 'Mahtowa', 'Parapente', 'ABCbraga', 'kristi.melton@abcbraga.io', 'false', 'true'], ['emd00072', '2020-09-26', 'Marsh', 'Crosby', '35', 'F', 'Northridge', 'Orientação', 'AVCfamalicão', 'marsh.crosby@avcfamalicão.net', 'false', 'true'], ['emd00073', '2020-02-14', 'Jewel', 'Wagner', '30', 'F', 'Levant', 'Atletismo', 'ACRroriz', 'jewel.wagner@acrroriz.biz', 'false', 'true'], ['emd00074', '2019-04-29', 'Leticia', 'Pena', '23', 'M', 'Osmond', 'Dança', 'SCBraga', 'leticia.pena@scbraga.org', 'false', 'true'], ['emd00075', '2020-06-11', 'Simmons', 'Conway', '29', 'F', 'Greenock', 'Andebol', 'ACDRcrespos', 'simmons.conway@acdrcrespos.biz', 'true', 'true'], ['emd00076', '2021-01-11', 'Fields', 'Colon', '32', 'F', 'Farmers', 'Parapente', 'Vitoria', 'fields.colon@vitoria.co.uk', 'true', 'true'], ['emd00077', '2020-04-28', 'Kristen', 'Jacobs', '21', 'M', 'Bergoo', 'Karaté', 'AVCfamalicão', 'kristen.jacobs@avcfamalicão.me', 'true', 'false'], ['emd00078', '2020-03-17', 'Mcdonald', 'Bender', '21', 'M', 'Belleview', 'Badminton', 'AmigosMontanha', 'mcdonald.bender@amigosmontanha.tv', 'false', 'true'], ['emd00079', '2020-11-25', 'Emily', 'Webb', '34', 'F', 'Fairmount', 'Basquetebol', 'ACDRcrespos', 'emily.webb@acdrcrespos.com', 'true', 'true'], ['emd00080', '2020-02-16', 'Walker', 'Wooten', '27', 'M', 'Chamberino', 'Atletismo', 'GDGoma', 'walker.wooten@gdgoma.name', 'true', 'false'], ['emd00081', '2019-11-20', 'Villarreal', 'Walton', '23', 'F', 'Waterview', 'Andebol', 'AmigosMontanha', 'villarreal.walton@amigosmontanha.info', 'false', 'false'], ['emd00082', '2020-12-04', 'Ashley', 'Rivers', '27', 'M', 'Joppa', 'Basquetebol', 'ACRroriz', 'ashley.rivers@acrroriz.ca', 'false', 'false'], ['emd00083', '2019-10-15', 'Mcknight', 'Price', '24', 'M', 'Ticonderoga', 'Parapente', 'Vitoria', 'mcknight.price@vitoria.io', 'false', 'true'], ['emd00084', '2019-10-13', 'Donna', 'Blevins', '22', 'F', 'Gratton', 'Equitação', 'GDGoma', 'donna.blevins@gdgoma.net', 'true', 'false'], ['emd00085', '2020-06-17', 'Cantrell', 'Santos', '22', 'M', 'Belvoir', 'Dança', 'ACRroriz', 'cantrell.santos@acrroriz.biz', 'true', 'true'], ['emd00086', '2019-09-07', 'Maldonado', 'Jefferson', '32', 'M', 'Coalmont', 'Basquetebol', 'EDViana', 'maldonado.jefferson@edviana.org', 'false', 'true'], ['emd00087', '2019-04-16', 'Reva', 'Kirk', '28', 'F', 'Rosine', 'Ciclismo', 'EDViana', 'reva.kirk@edviana.biz', 'false', 'false'], ['emd00088', '2019-07-17', 'Deann', 'Vargas', '30', 'F', 'Blanford', 'Dança', 'ACDRcrespos', 'deann.vargas@acdrcrespos.co.uk', 'false', 'false'], ['emd00089', '2021-02-15', 'Nunez', 'Guy', '22', 'F', 'Crown', 'Equitação', 'SCBraga', 'nunez.guy@scbraga.me', 'true', 'true'], ['emd00090', '2019-07-15', 'Sofia', 'Todd', '24', 'F', 'Vicksburg', 'Futebol', 'ABCbraga', 'sofia.todd@abcbraga.tv', 'false', 'true'], ['emd00091', '2021-01-30', 'Fowler', 'Madden', '33', 'M', 'Sattley', 'Andebol', 'AVCfamalicão', 'fowler.madden@avcfamalicão.com', 'true', 'false'], ['emd00092', '2019-12-11', 'Stone', 'Thomas', '30', 'M', 'Moquino', 'Triatlo', 'ACRroriz', 'stone.thomas@acrroriz.name', 'false', 'true'], ['emd00093', '2021-01-13', 'Bowers', 'Gilliam', '35', 'F', 'Chestnut', 'Badminton', 'AVCfamalicão', 'bowers.gilliam@avcfamalicão.info', 'true', 'false'], ['emd00094', '2019-11-19', 'Goldie', 'Mcgee', '25', 'F', 'Somerset', 'Ciclismo', 'AVCfamalicão', 'goldie.mcgee@avcfamalicão.ca', 'true', 'true'], ['emd00095', '2019-08-13', 'May', 'French', '33', 'F', 'Kingstowne', 'Badminton', 'GDGoma', 'may.french@gdgoma.io', 'false', 'false'], ['emd00096', '2020-06-03', 'Hester', 'Johnston', '26', 'M', 'Bannock', 'Badminton', 'ACRroriz', 'hester.johnston@acrroriz.net', 'true', 'false'], ['emd00097', '2020-08-30', 'Kim', 'Combs', '35', 'M', 'Chase', 'Atletismo', 'SCBraga', 'kim.combs@scbraga.biz', 'false', 'false'], ['emd00098', '2019-12-10', 'Elliott', 'Vaughan', '24', 'F', 'Morgandale', 'Futebol', 'GDGoma', 'elliott.vaughan@gdgoma.org', 'false', 'true'], ['emd00099', '2020-02-19', 'Sherman', 'Lowery', '33', 'F', 'Lumberton', 'Basquetebol', 'AVCfamalicão', 'sherman.lowery@avcfamalicão.biz', 'false', 'true'], ['emd00100', '2020-01-17', 'Peters', 'Emerson', '30', 'F', 'Bonanza', 'Dança', 'AmigosMontanha', 'peters.emerson@amigosmontanha.co.uk', 'false', 'false'], ['emd00001', '2020-11-21', 'Osborne', 'Cox', '24', 'M', 'Caroline', 'Patinagem', 'ACDRcrespos', 'osborne.cox@acdrcrespos.me', 'true', 'false'], ['emd00002', '2019-06-06', 'Hurley', 'Kaufman', '33', 'F', 'Ryderwood', 'Futebol', 'ACDRcrespos', 'hurley.kaufman@acdrcrespos.name', 'false', 'false'], ['emd00003', '2020-11-27', 'Josefa', 'Valencia', '25', 'F', 'Dalton', 'Triatlo', 'AmigosMontanha', 'josefa.valencia@amigosmontanha.info', 'false', 'true'], ['emd00004', '2020-07-21', 'Rhea', 'Wyatt', '32', 'F', 'Greensburg', 'Karaté', 'AmigosMontanha', 'rhea.wyatt@amigosmontanha.co.uk', 'false', 'false'], ['emd00005', '2019-01-30', 'Jennifer', 'Morris', '26', 'F', 'Oretta', 'Dança', 'AmigosMontanha', 'jennifer.morris@amigosmontanha.us', 'false', 'false'], ['emd00006', '2019-06-13', 'Annabelle', 'Duffy', '22', 'F', 'Summerset', 'Triatlo', 'AmigosMontanha', 'annabelle.duffy@amigosmontanha.biz', 'true', 'false'], ['emd00007', '2020-12-28', 'Kramer', 'Acosta', '34', 'F', 'Dotsero', 'BTT', 'ABCbraga', 'kramer.acosta@abcbraga.net', 'false', 'false'], ['emd00008', '2020-09-12', 'Foley', 'Pollard', '24', 'F', 'Oceola', 'Basquetebol', 'ACRroriz', 'foley.pollard@acrroriz.org', 'true', 'true'], ['emd00009', '2020-10-30', 'Ivy', 'Sandoval', '28', 'F', 'Hebron', 'Esgrima', 'ACRroriz', 'ivy.sandoval@acrroriz.ca', 'false', 'true'], ['emd00010', '2020-01-04', 'Lang', 'Farmer', '31', 'M', 'Farmington', 'BTT', 'ABCbraga', 'lang.farmer@abcbraga.io', 'true', 'true'], ['emd00011', '2021-01-12', 'Frost', 'Dejesus', '33', 'M', 'Glidden', 'Orientação', 'Vitoria', 'frost.dejesus@vitoria.biz', 'true', 'true'], ['emd00012', '2020-08-29', 'Livingston', 'Thomas', '28', 'M', 'Coalmont', 'Triatlo', 'ACDRcrespos', 'livingston.thomas@acdrcrespos.tv', 'true', 'true'], ['emd00013', '2020-06-15', 'Wagner', 'Steele', '33', 'M', 'Hemlock', 'Orientação', 'EDViana', 'wagner.steele@edviana.me', 'true', 'true'], ['emd00014', '2020-03-22', 'Stephenson', 'Cooke', '29', 'F', 'Glenbrook', 'Equitação', 'SCBraga', 'stephenson.cooke@scbraga.name', 'false', 'false'], ['emd00015', '2019-06-01', 'Alberta', 'Talley', '32', 'M', 'Canterwood', 'Orientação', 'ABCbraga', 'alberta.talley@abcbraga.info', 'false', 'true'], ['emd00016', '2019-08-11', 'Liza', 'Webb', '34', 'M', 'Linwood', 'Andebol', 'SCBraga', 'liza.webb@scbraga.co.uk', 'true', 'true'], ['emd00017', '2019-12-17', 'Brooks', 'Gamble', '27', 'F', 'Belgreen', 'BTT', 'AVCfamalicão', 'brooks.gamble@avcfamalicão.us', 'false', 'false'], ['emd00018', '2020-10-29', 'Blevins', 'Davenport', '28', 'M', 'Ladera', 'Ciclismo', 'Vitoria', 'blevins.davenport@vitoria.biz', 'false', 'true'], ['emd00019', '2020-02-16', 'Shepard', 'Stevens', '26', 'F', 'Edinburg', 'Badminton', 'EDViana', 'shepard.stevens@edviana.net', 'true', 'false'], ['emd00020', '2019-09-17', 'Nielsen', 'Tanner', '28', 'M', 'Roy', 'BTT', 'SCBraga', 'nielsen.tanner@scbraga.org', 'false', 'false'], ['emd00021', '2020-02-27', 'Welch', 'Rosales', '34', 'M', 'Warren', 'Karaté', 'AmigosMontanha', 'welch.rosales@amigosmontanha.ca', 'true', 'true'], ['emd00022', '2020-03-14', 'Park', 'Collier', '30', 'F', 'Como', 'Triatlo', 'SCBraga', 'park.collier@scbraga.io', 'false', 'true'], ['emd00023', '2019-10-21', 'Louise', 'Weeks', '30', 'M', 'Crucible', 'Patinagem', 'SCBraga', 'louise.weeks@scbraga.biz', 'true', 'true'], ['emd00024', '2020-07-08', 'Fox', 'Williams', '27', 'M', 'Eastmont', 'Futebol', 'SCBraga', 'fox.williams@scbraga.tv', 'false', 'false'], ['emd00025', '2021-01-08', 'Woodard', 'Rhodes', '34', 'F', 'Coleville', 'Karaté', 'ABCbraga', 'woodard.rhodes@abcbraga.me', 'true', 'true'], ['emd00026', '2020-05-22', 'Mclaughlin', 'Sargent', '31', 'M', 'Lowgap', 'Karaté', 'AmigosMontanha', 'mclaughlin.sargent@amigosmontanha.name', 'false', 'true'], ['emd00027', '2019-11-22', 'Nadine', 'Nixon', '27', 'F', 'Iola', 'Orientação', 'GDGoma', 'nadine.nixon@gdgoma.info', 'true', 'false'], ['emd00028', '2019-07-13', 'Tamera', 'Pierce', '23', 'M', 'Rowe', 'Parapente', 'AmigosMontanha', 'tamera.pierce@amigosmontanha.co.uk', 'true', 'true'], ['emd00029', '2020-01-03', 'Isabella', 'Dickson', '26', 'M', 'Lodoga', 'Triatlo', 'ACRroriz', 'isabella.dickson@acrroriz.us', 'true', 'false'], ['emd00030', '2019-07-18', 'Torres', 'Pittman', '28', 'F', 'Loma', 'Esgrima', 'ACRroriz', 'torres.pittman@acrroriz.biz', 'false', 'false'], ['emd00031', '2020-06-20', 'Jody', 'Hart', '34', 'F', 'Falmouth', 'Badminton', 'ACRroriz', 'jody.hart@acrroriz.net', 'false', 'false'], ['emd00032', '2020-03-24', 'Francis', 'Moran', '30', 'F', 'Englevale', 'Orientação', 'SCBraga', 'francis.moran@scbraga.org', 'true', 'false'], ['emd00033', '2020-05-24', 'Anna', 'May', '28', 'F', 'Dante', 'BTT', 'ACDRcrespos', 'anna.may@acdrcrespos.ca', 'true', 'true'], ['emd00034', '2020-05-04', 'Valeria', 'Kelly', '31', 'F', 'Whitestone', 'Karaté', 'ACRroriz', 'valeria.kelly@acrroriz.io', 'true', 'true'], ['emd00035', '2020-09-04', 'Stanton', 'Barrera', '29', 'F', 'Clinton', 'BTT', 'GDGoma', 'stanton.barrera@gdgoma.biz', 'true', 'false'], ['emd00036', '2019-07-13', 'Andrea', 'Hensley', '26', 'M', 'Lavalette', 'BTT', 'SCBraga', 'andrea.hensley@scbraga.tv', 'true', 'true'], ['emd00037', '2020-04-01', 'Mabel', 'Faulkner', '22', 'M', 'Cucumber', 'Equitação', 'GDGoma', 'mabel.faulkner@gdgoma.me', 'false', 'false'], ['emd00038', '2019-04-25', 'Nola', 'Wade', '28', 'F', 'Axis', 'Karaté', 'EDViana', 'nola.wade@edviana.name', 'false', 'true'], ['emd00039', '2019-11-27', 'Charles', 'Bowman', '27', 'F', 'Cumberland', 'BTT', 'AmigosMontanha', 'charles.bowman@amigosmontanha.info', 'true', 'false'], ['emd00040', '2020-04-06', 'Karen', 'Blanchard', '32', 'M', 'Shaft', 'Parapente', 'GDGoma', 'karen.blanchard@gdgoma.co.uk', 'false', 'false'], ['emd00041', '2020-01-11', 'Shelton', 'Ingram', '32', 'M', 'Aurora', 'Patinagem', 'ABCbraga', 'shelton.ingram@abcbraga.us', 'true', 'false'], ['emd00042', '2019-12-08', 'Gaines', 'Owens', '26', 'M', 'Calverton', 'Futebol', 'ACDRcrespos', 'gaines.owens@acdrcrespos.biz', 'true', 'false'], ['emd00043', '2019-10-29', 'Schmidt', 'Hopper', '21', 'M', 'Aguila', 'Basquetebol', 'SCBraga', 'schmidt.hopper@scbraga.net', 'false', 'false'], ['emd00044', '2020-10-18', 'Joann', 'Barnes', '31', 'F', 'Babb', 'Basquetebol', 'Vitoria', 'joann.barnes@vitoria.org', 'false', 'false'], ['emd00045', '2019-05-24', 'Kent', 'Tyler', '22', 'F', 'Venice', 'BTT', 'ACRroriz', 'kent.tyler@acrroriz.ca', 'false', 'true'], ['emd00046', '2020-05-11', 'Marsh', 'Jenkins', '23', 'M', 'Bowmansville', 'Karaté', 'ACDRcrespos', 'marsh.jenkins@acdrcrespos.io', 'false', 'true'], ['emd00047', '2019-08-12', 'Gill', 'Fitzpatrick', '25', 'M', 'Gibbsville', 'Basquetebol', 'Vitoria', 'gill.fitzpatrick@vitoria.biz', 'false', 'true'], ['emd00048', '2019-05-06', 'Staci', 'Jarvis', '34', 'M', 'Darlington', 'Atletismo', 'EDViana', 'staci.jarvis@edviana.tv', 'false', 'true'], ['emd00049', '2020-04-18', 'Roberta', 'Montoya', '29', 'M', 'Lithium', 'Badminton', 'Vitoria', 'roberta.montoya@vitoria.me', 'true', 'false'], ['emd00050', '2020-12-27', 'Karla', 'Marsh', '27', 'F', 'Rodanthe', 'Patinagem', 'ACRroriz', 'karla.marsh@acrroriz.name', 'false', 'false'], ['emd00051', '2019-01-28', 'Virginia', 'Mcdowell', '22', 'F', 'Joes', 'Dança', 'SCBraga', 'virginia.mcdowell@scbraga.info', 'false', 'true'], ['emd00052', '2020-09-26', 'Ana', 'Sharpe', '31', 'F', 'Floris', 'Orientação', 'AmigosMontanha', 'ana.sharpe@amigosmontanha.co.uk', 'false', 'true'], ['emd00053', '2019-03-25', 'Newton', 'Zamora', '23', 'F', 'Watrous', 'Badminton', 'AVCfamalicão', 'newton.zamora@avcfamalicão.us', 'true', 'true'], ['emd00054', '2021-01-22', 'Vivian', 'Mercado', '34', 'F', 'Sena', 'Badminton', 'AVCfamalicão', 'vivian.mercado@avcfamalicão.biz', 'false', 'true'], ['emd00055', '2019-11-08', 'Lula', 'Whitaker', '24', 'M', 'Manila', 'Ciclismo', 'SCBraga', 'lula.whitaker@scbraga.net', 'false', 'false'], ['emd00056', '2020-10-31', 'Lily', 'Marks', '29', 'F', 'Sunwest', 'Badminton', 'ACDRcrespos', 'lily.marks@acdrcrespos.org', 'true', 'true'], ['emd00057', '2019-06-27', 'Watson', 'Robles', '27', 'M', 'Thermal', 'Dança', 'SCBraga', 'watson.robles@scbraga.ca', 'false', 'true'], ['emd00058', '2019-11-05', 'Rojas', 'Bray', '29', 'M', 'Cliffside', 'BTT', 'SCBraga', 'rojas.bray@scbraga.io', 'false', 'true'], ['emd00059', '2019-07-17', 'Burt', 'Wright', '31', 'F', 'Yogaville', 'Dança', 'ACRroriz', 'burt.wright@acrroriz.biz', 'true', 'false'], ['emd00060', '2020-03-28', 'Jennie', 'Hawkins', '34', 'M', 'Dennard', 'BTT', 'ABCbraga', 'jennie.hawkins@abcbraga.tv', 'false', 'true'], ['emd00061', '2020-07-24', 'Shields', 'Bean', '27', 'M', 'Dunlo', 'Ciclismo', 'Vitoria', 'shields.bean@vitoria.me', 'false', 'false'], ['emd00062', '2020-11-11', 'Mclean', 'Reilly', '34', 'F', 'Bentonville', 'Esgrima', 'ABCbraga', 'mclean.reilly@abcbraga.name', 'true', 'false'], ['emd00063', '2019-08-17', 'Hunter', 'Russo', '21', 'F', 'Noxen', 'Orientação', 'AmigosMontanha', 'hunter.russo@amigosmontanha.info', 'true', 'false'], ['emd00064', '2019-10-21', 'Latonya', 'Lee', '33', 'M', 'Cascades', 'Futebol', 'ACRroriz', 'latonya.lee@acrroriz.co.uk', 'true', 'true'], ['emd00065', '2020-06-03', 'Tami', 'Briggs', '24', 'M', 'Darrtown', 'Parapente', 'SCBraga', 'tami.briggs@scbraga.us', 'true', 'false'], ['emd00066', '2019-11-24', 'Frank', 'Bishop', '35', 'F', 'Temperanceville', 'Triatlo', 'Vitoria', 'frank.bishop@vitoria.biz', 'false', 'false'], ['emd00067', '2020-07-31', 'Tanisha', 'Castro', '35', 'F', 'Kaka', 'Parapente', 'ACDRcrespos', 'tanisha.castro@acdrcrespos.net', 'false', 'true'], ['emd00068', '2020-03-23', 'Allen', 'Moon', '30', 'F', 'Convent', 'Triatlo', 'ACDRcrespos', 'allen.moon@acdrcrespos.org', 'false', 'true'], ['emd00069', '2020-08-19', 'Pate', 'Davis', '28', 'M', 'Topaz', 'Equitação', 'GDGoma', 'pate.davis@gdgoma.ca', 'true', 'true'], ['emd00070', '2019-02-04', 'Bishop', 'Valentine', '31', 'F', 'Graball', 'Orientação', 'AmigosMontanha', 'bishop.valentine@amigosmontanha.io', 'false', 'true'], ['emd00071', '2019-01-26', 'Bianca', 'Prince', '24', 'M', 'Walland', 'Badminton', 'EDViana', 'bianca.prince@edviana.biz', 'true', 'true'], ['emd00072', '2019-12-15', 'Ratliff', 'Medina', '22', 'M', 'Zarephath', 'Esgrima', 'GDGoma', 'ratliff.medina@gdgoma.tv', 'false', 'true'], ['emd00073', '2020-07-19', 'Bernice', 'Bartlett', '28', 'F', 'Bentley', 'Basquetebol', 'ABCbraga', 'bernice.bartlett@abcbraga.me', 'true', 'true'], ['emd00074', '2019-04-08', 'Hodge', 'Maxwell', '35', 'M', 'Yardville', 'Karaté', 'ACDRcrespos', 'hodge.maxwell@acdrcrespos.name', 'false', 'false'], ['emd00075', '2019-11-14', 'Mathis', 'Miller', '27', 'F', 'Brooktrails', 'Basquetebol', 'EDViana', 'mathis.miller@edviana.info', 'true', 'false'], ['emd00076', '2020-02-16', 'Foster', 'Randolph', '27', 'F', 'Sperryville', 'Basquetebol', 'SCBraga', 'foster.randolph@scbraga.co.uk', 'false', 'true'], ['emd00077', '2020-02-25', 'Tammy', 'Maddox', '26', 'F', 'Chesterfield', 'Orientação', 'Vitoria', 'tammy.maddox@vitoria.us', 'true', 'false'], ['emd00078', '2020-03-17', 'Madge', 'Daugherty', '30', 'F', 'Cartwright', 'Badminton', 'GDGoma', 'madge.daugherty@gdgoma.biz', 'false', 'false'], ['emd00079', '2019-04-30', 'Alyssa', 'Melendez', '29', 'F', 'Austinburg', 'Dança', 'ACRroriz', 'alyssa.melendez@acrroriz.net', 'true', 'true'], ['emd00080', '2019-08-22', 'Latisha', 'Cantrell', '25', 'F', 'Johnsonburg', 'Triatlo', 'ACRroriz', 'latisha.cantrell@acrroriz.org', 'true', 'true'], ['emd00081', '2019-03-02', 'Anne', 'Petty', '33', 'F', 'Summertown', 'Parapente', 'SCBraga', 'anne.petty@scbraga.ca', 'true', 'true'], ['emd00082', '2019-05-25', 'Faulkner', 'Baird', '22', 'F', 'Bawcomville', 'Parapente', 'AVCfamalicão', 'faulkner.baird@avcfamalicão.io', 'false', 'false'], ['emd00083', '2020-11-12', 'Banks', 'Anderson', '28', 'F', 'Lookingglass', 'Parapente', 'SCBraga', 'banks.anderson@scbraga.biz', 'false', 'false'], ['emd00084', '2020-08-09', 'Frazier', 'Aguilar', '21', 'F', 'Disautel', 'Esgrima', 'ACRroriz', 'frazier.aguilar@acrroriz.tv', 'false', 'false'], ['emd00085', '2019-09-26', 'Combs', 'Rollins', '24', 'M', 'Dorneyville', 'Ciclismo', 'ACRroriz', 'combs.rollins@acrroriz.me', 'false', 'true'], ['emd00086', '2020-07-14', 'House', 'Murphy', '28', 'M', 'Rose', 'Ciclismo', 'SCBraga', 'house.murphy@scbraga.name', 'true', 'true'], ['emd00087', '2020-12-01', 'Ashlee', 'Beard', '23', 'F', 'Monument', 'Ciclismo', 'AVCfamalicão', 'ashlee.beard@avcfamalicão.info', 'true', 'false'], ['emd00088', '2020-10-22', 'Leon', 'Schmidt', '29', 'F', 'Mooresburg', 'Triatlo', 'EDViana', 'leon.schmidt@edviana.co.uk', 'false', 'false'], ['emd00089', '2021-01-20', 'Anita', 'Lyons', '35', 'M', 'Homeworth', 'Parapente', 'SCBraga', 'anita.lyons@scbraga.us', 'true', 'true'], ['emd00090', '2020-12-03', 'Herrera', 'Wilder', '32', 'F', 'Virgie', 'Orientação', 'SCBraga', 'herrera.wilder@scbraga.biz', 'false', 'false'], ['emd00091', '2020-04-14', 'Lindsay', 'Thompson', '21', 'F', 'Topanga', 'Andebol', 'GDGoma', 'lindsay.thompson@gdgoma.net', 'true', 'true'], ['emd00092', '2020-12-30', 'Maynard', 'Erickson', '23', 'M', 'Harleigh', 'Atletismo', 'Vitoria', 'maynard.erickson@vitoria.org', 'false', 'false'], ['emd00093', '2019-05-04', 'Flynn', 'York', '22', 'F', 'Forbestown', 'Andebol', 'Vitoria', 'flynn.york@vitoria.ca', 'true', 'true'], ['emd00094', '2021-02-22', 'Larsen', 'Miles', '31', 'M', 'Dawn', 'Dança', 'EDViana', 'larsen.miles@edviana.io', 'true', 'false'], ['emd00095', '2020-07-08', 'Stacey', 'Mills', '22', 'F', 'Rosedale', 'Esgrima', 'ACDRcrespos', 'stacey.mills@acdrcrespos.biz', 'true', 'false'], ['emd00096', '2019-06-09', 'Stevenson', 'Perkins', '28', 'M', 'Hinsdale', 'Karaté', 'ACDRcrespos', 'stevenson.perkins@acdrcrespos.tv', 'true', 'true'], ['emd00097', '2019-05-03', 'Velasquez', 'Barber', '22', 'M', 'Madaket', 'Equitação', 'AVCfamalicão', 'velasquez.barber@avcfamalicão.me', 'false', 'true'], ['emd00098', '2019-07-03', 'Lawrence', 'Hahn', '31', 'F', 'Chase', 'Badminton', 'AVCfamalicão', 'lawrence.hahn@avcfamalicão.name', 'false', 'false'], ['emd00099', '2020-03-15', 'Helen', 'Pruitt', '31', 'F', 'Camino', 'Triatlo', 'AmigosMontanha', 'helen.pruitt@amigosmontanha.info', 'true', 'false'], ['emd00100', '2019-07-21', 'Wiley', 'Stark', '31', 'F', 'Fairlee', 'Futebol', 'EDViana', 'wiley.stark@edviana.co.uk', 'false', 'true'], ['emd00001', '2020-05-31', 'Smith', 'Noel', '33', 'F', 'Gibbsville', 'Andebol', 'GDGoma', 'smith.noel@gdgoma.me', 'true', 'false'], ['emd00002', '2020-08-09', 'Joseph', 'Schmidt', '25', 'F', 'Heil', 'Esgrima', 'ACDRcrespos', 'joseph.schmidt@acdrcrespos.org', 'false', 'false'], ['emd00003', '2020-03-17', 'Frank', 'Schwartz', '27', 'F', 'Fairforest', 'Dança', 'GDGoma', 'frank.schwartz@gdgoma.net', 'false', 'false'], ['emd00004', '2020-09-28', 'Patti', 'Osborne', '29', 'F', 'Camas', 'Dança', 'ACDRcrespos', 'patti.osborne@acdrcrespos.ca', 'false', 'true'], ['emd00005', '2019-05-29', 'Frieda', 'Hansen', '32', 'F', 'Allamuchy', 'Ciclismo', 'GDGoma', 'frieda.hansen@gdgoma.co.uk', 'true', 'false'], ['emd00006', '2019-01-12', 'Elena', 'Mcneil', '34', 'F', 'Bedias', 'Orientação', 'Vitoria', 'elena.mcneil@vitoria.us', 'false', 'true'], ['emd00007', '2019-03-02', 'Dana', 'Morrison', '35', 'M', 'Bluffview', 'Atletismo', 'ACRroriz', 'dana.morrison@acrroriz.tv', 'true', 'true'], ['emd00008', '2020-11-03', 'Vera', 'Scott', '29', 'M', 'Dante', 'Esgrima', 'AmigosMontanha', 'vera.scott@amigosmontanha.biz', 'false', 'true'], ['emd00009', '2019-03-13', 'Kristen', 'Goodwin', '24', 'M', 'Sterling', 'Esgrima', 'GDGoma', 'kristen.goodwin@gdgoma.name', 'false', 'true'], ['emd00010', '2020-03-01', 'Haley', 'Washington', '33', 'M', 'Bagtown', 'BTT', 'ACRroriz', 'haley.washington@acrroriz.biz', 'true', 'true'], ['emd00011', '2020-11-13', 'Maryann', 'Workman', '26', 'M', 'Goochland', 'Orientação', 'ACRroriz', 'maryann.workman@acrroriz.io', 'true', 'true'], ['emd00012', '2020-11-24', 'Alston', 'Richardson', '27', 'F', 'Edinburg', 'Triatlo', 'ACDRcrespos', 'alston.richardson@acdrcrespos.com', 'false', 'true'], ['emd00013', '2020-03-30', 'Albert', 'Sweeney', '34', 'M', 'Coloma', 'BTT', 'GDGoma', 'albert.sweeney@gdgoma.me', 'false', 'true'], ['emd00014', '2019-04-19', 'Christina', 'Hurley', '32', 'M', 'Odessa', 'Patinagem', 'ACDRcrespos', 'christina.hurley@acdrcrespos.org', 'false', 'true'], ['emd00015', '2020-02-27', 'Petra', 'Leon', '32', 'M', 'Delshire', 'Equitação', 'EDViana', 'petra.leon@edviana.net', 'true', 'false'], ['emd00016', '2020-02-03', 'Freda', 'Wooten', '30', 'F', 'Craig', 'Esgrima', 'GDGoma', 'freda.wooten@gdgoma.ca', 'false', 'true'], ['emd00017', '2019-04-05', 'Avis', 'Craft', '26', 'F', 'Fairmount', 'Orientação', 'ACDRcrespos', 'avis.craft@acdrcrespos.co.uk', 'true', 'true'], ['emd00018', '2019-09-20', 'Meagan', 'Le', '32', 'M', 'Helen', 'Atletismo', 'ACDRcrespos', 'meagan.le@acdrcrespos.us', 'true', 'true'], ['emd00019', '2019-12-23', 'Jessie', 'Dyer', '30', 'F', 'Saranap', 'Patinagem', 'Vitoria', 'jessie.dyer@vitoria.tv', 'false', 'false'], ['emd00020', '2019-07-09', 'Rhea', 'Patel', '23', 'F', 'Goldfield', 'BTT', 'Vitoria', 'rhea.patel@vitoria.biz', 'false', 'false'], ['emd00021', '2019-10-19', 'Robles', 'Nelson', '30', 'F', 'Gorst', 'Futebol', 'AmigosMontanha', 'robles.nelson@amigosmontanha.name', 'false', 'false'], ['emd00022', '2020-07-03', 'Stewart', 'Pugh', '24', 'M', 'Lacomb', 'Andebol', 'SCBraga', 'stewart.pugh@scbraga.biz', 'false', 'true'], ['emd00023', '2019-01-23', 'Bowers', 'Conrad', '24', 'M', 'Graniteville', 'Ciclismo', 'ABCbraga', 'bowers.conrad@abcbraga.io', 'false', 'true'], ['emd00024', '2020-03-31', 'Burch', 'Navarro', '22', 'M', 'Bowden', 'Basquetebol', 'Vitoria', 'burch.navarro@vitoria.com', 'true', 'true'], ['emd00025', '2020-05-06', 'Pruitt', 'Ochoa', '31', 'F', 'Wedgewood', 'Karaté', 'AmigosMontanha', 'pruitt.ochoa@amigosmontanha.me', 'true', 'true'], ['emd00026', '2019-02-02', 'Jackie', 'Garrison', '33', 'M', 'Cedarville', 'Ciclismo', 'ACDRcrespos', 'jackie.garrison@acdrcrespos.org', 'true', 'false'], ['emd00027', '2019-07-21', 'Garrison', 'Evans', '33', 'M', 'Brandermill', 'Futebol', 'ABCbraga', 'garrison.evans@abcbraga.net', 'true', 'true'], ['emd00028', '2020-02-04', 'Callie', 'Wynn', '31', 'M', 'Lorraine', 'Futebol', 'GDGoma', 'callie.wynn@gdgoma.ca', 'false', 'true'], ['emd00029', '2021-03-02', 'Roberta', 'Joseph', '29', 'F', 'Weedville', 'Futebol', 'AmigosMontanha', 'roberta.joseph@amigosmontanha.co.uk', 'false', 'false'], ['emd00030', '2019-05-23', 'Young', 'Estes', '23', 'M', 'Alden', 'Ciclismo', 'EDViana', 'young.estes@edviana.us', 'true', 'true'], ['emd00031', '2019-11-04', 'Banks', 'Lyons', '26', 'F', 'Byrnedale', 'Karaté', 'AVCfamalicão', 'banks.lyons@avcfamalicão.tv', 'true', 'true'], ['emd00032', '2019-05-16', 'Lela', 'Chan', '22', 'M', 'Cuylerville', 'Patinagem', 'SCBraga', 'lela.chan@scbraga.biz', 'true', 'false'], ['emd00033', '2019-10-12', 'Harding', 'Hudson', '23', 'M', 'Sanders', 'Esgrima', 'AmigosMontanha', 'harding.hudson@amigosmontanha.name', 'false', 'false'], ['emd00034', '2020-08-11', 'Crawford', 'Kelley', '32', 'F', 'Loomis', 'Badminton', 'AmigosMontanha', 'crawford.kelley@amigosmontanha.biz', 'false', 'false'], ['emd00035', '2019-06-05', 'Celia', 'Rogers', '28', 'M', 'Windsor', 'Triatlo', 'AmigosMontanha', 'celia.rogers@amigosmontanha.io', 'false', 'false'], ['emd00036', '2019-11-23', 'Kathryn', 'Maddox', '27', 'M', 'Hannasville', 'Patinagem', 'ABCbraga', 'kathryn.maddox@abcbraga.com', 'true', 'true'], ['emd00037', '2019-12-26', 'Boyle', 'Lancaster', '25', 'M', 'Katonah', 'Triatlo', 'ACDRcrespos', 'boyle.lancaster@acdrcrespos.me', 'true', 'false'], ['emd00038', '2019-09-04', 'Randall', 'Nichols', '26', 'M', 'Zeba', 'Orientação', 'EDViana', 'randall.nichols@edviana.org', 'true', 'true'], ['emd00039', '2019-06-06', 'Eve', 'Kline', '31', 'F', 'Emerald', 'Badminton', 'ACDRcrespos', 'eve.kline@acdrcrespos.net', 'true', 'false'], ['emd00040', '2019-10-08', 'Foreman', 'Tran', '27', 'F', 'Hollins', 'Equitação', 'ABCbraga', 'foreman.tran@abcbraga.ca', 'true', 'false'], ['emd00041', '2021-01-26', 'Levine', 'Sampson', '21', 'F', 'Martinez', 'Basquetebol', 'Vitoria', 'levine.sampson@vitoria.co.uk', 'false', 'false'], ['emd00042', '2019-05-19', 'Jacobs', 'Carroll', '27', 'M', 'Ripley', 'Andebol', 'AVCfamalicão', 'jacobs.carroll@avcfamalicão.us', 'true', 'true'], ['emd00043', '2020-09-29', 'Price', 'Hardin', '35', 'M', 'Rodman', 'BTT', 'SCBraga', 'price.hardin@scbraga.tv', 'true', 'true'], ['emd00044', '2019-09-28', 'Bell', 'Zimmerman', '24', 'M', 'Thomasville', 'Andebol', 'ABCbraga', 'bell.zimmerman@abcbraga.biz', 'false', 'false'], ['emd00045', '2020-08-31', 'Lena', 'Lynch', '26', 'F', 'Makena', 'Badminton', 'AVCfamalicão', 'lena.lynch@avcfamalicão.name', 'false', 'true'], ['emd00046', '2020-09-26', 'Summer', 'Spencer', '21', 'F', 'Rosburg', 'Andebol', 'ACRroriz', 'summer.spencer@acrroriz.biz', 'true', 'true'], ['emd00047', '2019-08-04', 'Brock', 'Peterson', '31', 'M', 'Glasgow', 'Futebol', 'AmigosMontanha', 'brock.peterson@amigosmontanha.io', 'false', 'true'], ['emd00048', '2019-02-25', 'Hood', 'Burks', '26', 'M', 'Nelson', 'Andebol', 'ACRroriz', 'hood.burks@acrroriz.com', 'false', 'false'], ['emd00049', '2020-11-08', 'Letitia', 'Dean', '29', 'M', 'Berlin', 'Ciclismo', 'EDViana', 'letitia.dean@edviana.me', 'false', 'true'], ['emd00050', '2019-05-24', 'Tanya', 'Ballard', '26', 'F', 'Norwood', 'Andebol', 'ABCbraga', 'tanya.ballard@abcbraga.org', 'true', 'true'], ['emd00051', '2019-11-08', 'Blackburn', 'Price', '23', 'F', 'Iola', 'Andebol', 'ACRroriz', 'blackburn.price@acrroriz.net', 'true', 'false'], ['emd00052', '2020-04-01', 'Kate', 'Woods', '23', 'F', 'Neibert', 'Atletismo', 'ACRroriz', 'kate.woods@acrroriz.ca', 'false', 'true'], ['emd00053', '2020-01-24', 'Justice', 'Bryan', '34', 'F', 'Thornport', 'Triatlo', 'ACDRcrespos', 'justice.bryan@acdrcrespos.co.uk', 'false', 'true'], ['emd00054', '2019-12-14', 'Gilbert', 'Harrison', '28', 'M', 'Stagecoach', 'Basquetebol', 'ABCbraga', 'gilbert.harrison@abcbraga.us', 'true', 'true'], ['emd00055', '2020-09-28', 'Christa', 'Norris', '32', 'F', 'Levant', 'Basquetebol', 'ACRroriz', 'christa.norris@acrroriz.tv', 'false', 'true'], ['emd00056', '2020-07-24', 'Dixon', 'Henry', '25', 'M', 'Grazierville', 'Ciclismo', 'ABCbraga', 'dixon.henry@abcbraga.biz', 'false', 'false'], ['emd00057', '2020-04-10', 'Silvia', 'Ayala', '24', 'F', 'Macdona', 'BTT', 'ABCbraga', 'silvia.ayala@abcbraga.name', 'true', 'true'], ['emd00058', '2020-11-15', 'Marci', 'Summers', '24', 'M', 'Monument', 'Ciclismo', 'SCBraga', 'marci.summers@scbraga.biz', 'false', 'false'], ['emd00059', '2019-11-17', 'Powers', 'Torres', '31', 'M', 'Bakersville', 'BTT', 'ACRroriz', 'powers.torres@acrroriz.io', 'true', 'false'], ['emd00060', '2019-11-05', 'Curtis', 'Curtis', '25', 'M', 'Coalmont', 'Karaté', 'AmigosMontanha', 'curtis.curtis@amigosmontanha.com', 'false', 'true'], ['emd00061', '2019-12-11', 'Sheppard', 'Greer', '30', 'F', 'Navarre', 'Atletismo', 'AVCfamalicão', 'sheppard.greer@avcfamalicão.me', 'true', 'false'], ['emd00062', '2020-10-08', 'Carmella', 'Lindsay', '26', 'M', 'Alafaya', 'Futebol', 'ACDRcrespos', 'carmella.lindsay@acdrcrespos.org', 'true', 'true'], ['emd00063', '2019-11-14', 'Geneva', 'Barker', '33', 'M', 'Chamberino', 'Ciclismo', 'AmigosMontanha', 'geneva.barker@amigosmontanha.net', 'false', 'true'], ['emd00064', '2020-03-24', 'Cassie', 'Kirk', '32', 'M', 'Templeton', 'Karaté', 'ACDRcrespos', 'cassie.kirk@acdrcrespos.ca', 'false', 'true'], ['emd00065', '2019-12-30', 'Le', 'Blair', '26', 'F', 'Kersey', 'BTT', 'EDViana', 'le.blair@edviana.co.uk', 'true', 'true'], ['emd00066', '2020-03-24', 'Dolores', 'Williams', '32', 'F', 'Marne', 'Dança', 'Vitoria', 'dolores.williams@vitoria.us', 'true', 'true'], ['emd00067', '2019-01-25', 'Madeleine', 'Gould', '28', 'M', 'Osage', 'Karaté', 'ABCbraga', 'madeleine.gould@abcbraga.tv', 'true', 'false'], ['emd00068', '2019-04-24', 'Farrell', 'Gilliam', '23', 'M', 'Taycheedah', 'Andebol', 'AVCfamalicão', 'farrell.gilliam@avcfamalicão.biz', 'false', 'true'], ['emd00069', '2020-09-13', 'Evelyn', 'Grant', '25', 'F', 'Callaghan', 'Esgrima', 'GDGoma', 'evelyn.grant@gdgoma.name', 'false', 'true'], ['emd00070', '2019-11-15', 'Decker', 'Allen', '26', 'F', 'Gilgo', 'Badminton', 'AmigosMontanha', 'decker.allen@amigosmontanha.biz', 'true', 'true'], ['emd00071', '2020-05-21', 'Skinner', 'Mcintosh', '22', 'F', 'Lawrence', 'Triatlo', 'AmigosMontanha', 'skinner.mcintosh@amigosmontanha.io', 'false', 'false'], ['emd00072', '2021-02-06', 'Stefanie', 'Byrd', '34', 'M', 'Bellfountain', 'Esgrima', 'EDViana', 'stefanie.byrd@edviana.com', 'true', 'false'], ['emd00073', '2020-11-25', 'Blevins', 'Frost', '28', 'F', 'Comptche', 'Dança', 'EDViana', 'blevins.frost@edviana.me', 'true', 'false'], ['emd00074', '2019-09-20', 'Ayers', 'Lara', '22', 'M', 'Layhill', 'Karaté', 'Vitoria', 'ayers.lara@vitoria.org', 'true', 'false'], ['emd00075', '2019-05-31', 'Trujillo', 'Burke', '21', 'M', 'Gardiner', 'Triatlo', 'AVCfamalicão', 'trujillo.burke@avcfamalicão.net', 'false', 'true'], ['emd00076', '2020-01-05', 'Garner', 'Reid', '31', 'M', 'Roeville', 'Karaté', 'ACRroriz', 'garner.reid@acrroriz.ca', 'false', 'true'], ['emd00077', '2020-11-28', 'Esmeralda', 'Young', '32', 'F', 'Delwood', 'Dança', 'ACDRcrespos', 'esmeralda.young@acdrcrespos.co.uk', 'false', 'true'], ['emd00078', '2019-01-17', 'Kramer', 'Mcclure', '22', 'F', 'Darbydale', 'Karaté', 'ABCbraga', 'kramer.mcclure@abcbraga.us', 'true', 'true'], ['emd00079', '2019-11-16', 'Deanne', 'Stone', '26', 'M', 'Coral', 'Equitação', 'AVCfamalicão', 'deanne.stone@avcfamalicão.tv', 'false', 'true'], ['emd00080', '2020-05-13', 'Jacqueline', 'Love', '23', 'F', 'Idamay', 'Andebol', 'ACDRcrespos', 'jacqueline.love@acdrcrespos.biz', 'false', 'false'], ['emd00081', '2019-09-02', 'Holcomb', 'Mathis', '22', 'M', 'Boonville', 'Badminton', 'ACDRcrespos', 'holcomb.mathis@acdrcrespos.name', 'true', 'true'], ['emd00082', '2019-08-03', 'Amalia', 'Flynn', '28', 'M', 'Morriston', 'Badminton', 'ACDRcrespos', 'amalia.flynn@acdrcrespos.biz', 'true', 'true'], ['emd00083', '2019-09-27', 'Maria', 'Mcfadden', '25', 'F', 'Morgandale', 'Atletismo', 'Vitoria', 'maria.mcfadden@vitoria.io', 'true', 'false'], ['emd00084', '2019-10-30', 'Landry', 'Kidd', '33', 'F', 'Grandview', 'Parapente', 'Vitoria', 'landry.kidd@vitoria.com', 'false', 'true'], ['emd00085', '2019-06-21', 'Burton', 'Singleton', '27', 'M', 'Trucksville', 'Badminton', 'AmigosMontanha', 'burton.singleton@amigosmontanha.me', 'true', 'true'], ['emd00086', '2020-04-28', 'Shaw', 'Yang', '33', 'F', 'Needmore', 'Dança', 'SCBraga', 'shaw.yang@scbraga.org', 'false', 'false'], ['emd00087', '2019-11-23', 'Pacheco', 'Robbins', '21', 'M', 'Joes', 'Parapente', 'EDViana', 'pacheco.robbins@edviana.net', 'false', 'false'], ['emd00088', '2019-09-26', 'Deana', 'Franco', '32', 'M', 'Robbins', 'Dança', 'EDViana', 'deana.franco@edviana.ca', 'false', 'false'], ['emd00089', '2020-01-31', 'Velazquez', 'Meyers', '34', 'F', 'Dennard', 'Ciclismo', 'ACDRcrespos', 'velazquez.meyers@acdrcrespos.co.uk', 'false', 'true'], ['emd00090', '2020-08-25', 'Roth', 'Booker', '33', 'F', 'Talpa', 'Patinagem', 'ACDRcrespos', 'roth.booker@acdrcrespos.us', 'true', 'false'], ['emd00091', '2020-12-02', 'Chase', 'Chang', '27', 'F', 'Beaverdale', 'Dança', 'Vitoria', 'chase.chang@vitoria.tv', 'true', 'false'], ['emd00092', '2019-04-02', 'Barr', 'Bell', '33', 'F', 'Hillsboro', 'Parapente', 'AVCfamalicão', 'barr.bell@avcfamalicão.biz', 'true', 'false'], ['emd00093', '2019-12-13', 'Daniel', 'Mccormick', '27', 'F', 'Floriston', 'Badminton', 'EDViana', 'daniel.mccormick@edviana.name', 'false', 'true'], ['emd00094', '2020-02-19', 'Lilian', 'Levine', '30', 'F', 'Alamo', 'Parapente', 'EDViana', 'lilian.levine@edviana.biz', 'true', 'true'], ['emd00095', '2020-04-09', 'Cunningham', 'Curry', '24', 'M', 'Elwood', 'Ciclismo', 'ABCbraga', 'cunningham.curry@abcbraga.io', 'false', 'true'], ['emd00096', '2020-11-24', 'Dalton', 'Chaney', '30', 'F', 'Yukon', 'Triatlo', 'ACDRcrespos', 'dalton.chaney@acdrcrespos.com', 'true', 'false'], ['emd00097', '2020-03-14', 'Chrystal', 'Poole', '28', 'M', 'Thynedale', 'BTT', 'ACDRcrespos', 'chrystal.poole@acdrcrespos.me', 'false', 'true'], ['emd00098', '2019-10-19', 'Joanne', 'Wise', '21', 'F', 'Gerber', 'Triatlo', 'ABCbraga', 'joanne.wise@abcbraga.org', 'true', 'false'], ['emd00099', '2021-02-15', 'Douglas', 'Gay', '29', 'F', 'Lowgap', 'Atletismo', 'GDGoma', 'douglas.gay@gdgoma.net', 'true', 'true'], ['emd00100', '2021-01-13', 'Glenn', 'Best', '27', 'M', 'Graball', 'BTT', 'AVCfamalicão', 'glenn.best@avcfamalicão.ca', 'true', 'true']]\n"
     ]
    }
   ],
   "source": [
    "BD = []\n",
    "BD = lerDataset(\"emd.csv\")\n",
    "print(BD)"
   ]
  },
  {
   "cell_type": "markdown",
   "metadata": {},
   "source": [
    "## Listagem (exercício 2)\n",
    "\n",
    "Especifica uma função que faça a listagem no monitor dos vários registos de informação por ordem cronológica decrescente.\n",
    "\n",
    "Tenta dar a forma duma tabela em que as colunas têm todas a mesma dimensão."
   ]
  },
  {
   "cell_type": "code",
   "execution_count": 6,
   "metadata": {},
   "outputs": [
    {
     "name": "stdout",
     "output_type": "stream",
     "text": [
      "|id     | Data     | Nome        |Aptidão\n",
      "--------------------------------------------\n",
      "emd00029|2021-03-02|JosephRoberta|false\n",
      "emd00024|2021-02-25|WeberCastro|false\n",
      "emd00094|2021-02-22|MilesLarsen|false\n",
      "emd00089|2021-02-15|GuyNunez|true\n",
      "emd00099|2021-02-15|GayDouglas|true\n",
      "emd00072|2021-02-06|ByrdStefanie|false\n",
      "emd00091|2021-01-30|MaddenFowler|false\n",
      "emd00041|2021-01-26|SampsonLevine|false\n",
      "emd00054|2021-01-22|MercadoVivian|true\n",
      "emd00089|2021-01-20|LyonsAnita|true\n",
      "emd00031|2021-01-18|McneilFreida|false\n",
      "emd00093|2021-01-13|GilliamBowers|false\n",
      "emd00100|2021-01-13|BestGlenn|true\n",
      "emd00011|2021-01-12|DejesusFrost|true\n",
      "emd00076|2021-01-11|ColonFields|true\n",
      "emd00025|2021-01-08|RhodesWoodard|true\n",
      "emd00003|2021-01-06|BergerCheryl|true\n",
      "emd00058|2020-12-31|KaufmanMaritza|true\n",
      "emd00092|2020-12-30|EricksonMaynard|false\n",
      "emd00056|2020-12-28|PrestonKathie|false\n",
      "emd00007|2020-12-28|AcostaKramer|false\n",
      "emd00050|2020-12-27|MarshKarla|false\n",
      "emd00053|2020-12-17|WardLora|true\n",
      "emd00007|2020-12-11|MaddoxMerrill|true\n",
      "emd00009|2020-12-09|BrightLucia|false\n",
      "emd00082|2020-12-04|RiversAshley|false\n",
      "emd00090|2020-12-03|WilderHerrera|false\n",
      "emd00091|2020-12-02|ChangChase|false\n",
      "emd00087|2020-12-01|BeardAshlee|false\n",
      "emd00077|2020-11-28|YoungEsmeralda|true\n",
      "emd00003|2020-11-27|ValenciaJosefa|true\n",
      "emd00079|2020-11-25|WebbEmily|true\n",
      "emd00073|2020-11-25|FrostBlevins|false\n",
      "emd00012|2020-11-24|RichardsonAlston|true\n",
      "emd00096|2020-11-24|ChaneyDalton|false\n",
      "emd00001|2020-11-21|CoxOsborne|false\n",
      "emd00004|2020-11-19|GoffGraves|false\n",
      "emd00058|2020-11-15|SummersMarci|false\n",
      "emd00042|2020-11-13|MejiaHardin|true\n",
      "emd00011|2020-11-13|WorkmanMaryann|true\n",
      "emd00083|2020-11-12|AndersonBanks|false\n",
      "emd00062|2020-11-11|ReillyMclean|false\n",
      "emd00049|2020-11-08|DeanLetitia|true\n",
      "emd00066|2020-11-07|RojasMiller|false\n",
      "emd00033|2020-11-03|PowellJulianne|false\n",
      "emd00008|2020-11-03|ScottVera|true\n",
      "emd00056|2020-10-31|MarksLily|true\n",
      "emd00009|2020-10-30|SandovalIvy|true\n",
      "emd00018|2020-10-29|DavenportBlevins|true\n",
      "emd00088|2020-10-22|SchmidtLeon|false\n",
      "emd00044|2020-10-18|BarnesJoann|false\n",
      "emd00062|2020-10-08|LindsayCarmella|true\n",
      "emd00043|2020-09-29|HardinPrice|true\n",
      "emd00004|2020-09-28|OsbornePatti|true\n",
      "emd00055|2020-09-28|NorrisChrista|true\n",
      "emd00022|2020-09-26|RomeroSamantha|true\n",
      "emd00072|2020-09-26|CrosbyMarsh|true\n",
      "emd00052|2020-09-26|SharpeAna|true\n",
      "emd00046|2020-09-26|SpencerSummer|true\n",
      "emd00021|2020-09-22|HunterEunice|true\n",
      "emd00069|2020-09-13|GrantEvelyn|true\n",
      "emd00008|2020-09-12|PollardFoley|true\n",
      "emd00057|2020-09-04|SolisHollie|false\n",
      "emd00035|2020-09-04|BarreraStanton|false\n",
      "emd00063|2020-09-01|CraftMarie|true\n",
      "emd00045|2020-08-31|LynchLena|true\n",
      "emd00097|2020-08-30|CombsKim|false\n",
      "emd00012|2020-08-29|ThomasLivingston|true\n",
      "emd00090|2020-08-25|BookerRoth|false\n",
      "emd00069|2020-08-19|DavisPate|true\n",
      "emd00034|2020-08-11|KelleyCrawford|false\n",
      "emd00084|2020-08-09|AguilarFrazier|false\n",
      "emd00002|2020-08-09|SchmidtJoseph|false\n",
      "emd00067|2020-07-31|CastroTanisha|true\n",
      "emd00061|2020-07-24|BeanShields|false\n",
      "emd00056|2020-07-24|HenryDixon|false\n",
      "emd00004|2020-07-21|WyattRhea|false\n",
      "emd00073|2020-07-19|BartlettBernice|true\n",
      "emd00086|2020-07-14|MurphyHouse|true\n",
      "emd00024|2020-07-08|WilliamsFox|false\n",
      "emd00095|2020-07-08|MillsStacey|false\n",
      "emd00052|2020-07-03|YatesBrigitte|true\n",
      "emd00022|2020-07-03|PughStewart|true\n",
      "emd00040|2020-06-29|PowersMiranda|false\n",
      "emd00031|2020-06-20|HartJody|false\n",
      "emd00085|2020-06-17|SantosCantrell|true\n",
      "emd00013|2020-06-15|SteeleWagner|true\n",
      "emd00075|2020-06-11|ConwaySimmons|true\n",
      "emd00096|2020-06-03|JohnstonHester|false\n",
      "emd00065|2020-06-03|BriggsTami|false\n",
      "emd00047|2020-05-31|RobertsonLott|false\n",
      "emd00001|2020-05-31|NoelSmith|false\n",
      "emd00033|2020-05-24|MayAnna|true\n",
      "emd00026|2020-05-22|SargentMclaughlin|true\n",
      "emd00071|2020-05-21|McintoshSkinner|false\n",
      "emd00080|2020-05-13|LoveJacqueline|false\n",
      "emd00046|2020-05-11|JenkinsMarsh|true\n",
      "emd00025|2020-05-06|OchoaPruitt|true\n",
      "emd00034|2020-05-04|KellyValeria|true\n",
      "emd00034|2020-05-03|RiddleAisha|true\n",
      "emd00077|2020-04-28|JacobsKristen|false\n",
      "emd00086|2020-04-28|YangShaw|false\n",
      "emd00019|2020-04-19|HowellIsabella|false\n",
      "emd00049|2020-04-18|MontoyaRoberta|false\n",
      "emd00091|2020-04-14|ThompsonLindsay|true\n",
      "emd00057|2020-04-10|AyalaSilvia|true\n",
      "emd00095|2020-04-09|CurryCunningham|true\n",
      "emd00040|2020-04-06|BlanchardKaren|false\n",
      "emd00037|2020-04-01|FaulknerMabel|false\n",
      "emd00052|2020-04-01|WoodsKate|true\n",
      "emd00024|2020-03-31|NavarroBurch|true\n",
      "emd00013|2020-03-30|SweeneyAlbert|true\n",
      "emd00060|2020-03-28|HawkinsJennie|true\n",
      "emd00032|2020-03-24|MoranFrancis|false\n",
      "emd00064|2020-03-24|KirkCassie|true\n",
      "emd00066|2020-03-24|WilliamsDolores|true\n",
      "emd00068|2020-03-23|MoonAllen|true\n",
      "emd00014|2020-03-22|CookeStephenson|false\n",
      "emd00016|2020-03-19|BradleySharon|false\n",
      "emd00078|2020-03-17|BenderMcdonald|true\n",
      "emd00078|2020-03-17|DaughertyMadge|false\n",
      "emd00003|2020-03-17|SchwartzFrank|false\n",
      "emd00099|2020-03-15|PruittHelen|false\n",
      "emd00022|2020-03-14|CollierPark|true\n",
      "emd00097|2020-03-14|PooleChrystal|true\n",
      "emd00061|2020-03-09|TuckerWilson|false\n",
      "emd00010|2020-03-01|WashingtonHaley|true\n",
      "emd00039|2020-02-28|EstradaElma|true\n",
      "emd00067|2020-02-27|GuerraBanks|false\n",
      "emd00021|2020-02-27|RosalesWelch|true\n",
      "emd00015|2020-02-27|LeonPetra|false\n",
      "emd00001|2020-02-25|GayDelgado|true\n",
      "emd00055|2020-02-25|BrockKristina|false\n",
      "emd00077|2020-02-25|MaddoxTammy|false\n",
      "emd00099|2020-02-19|LowerySherman|true\n",
      "emd00094|2020-02-19|LevineLilian|true\n",
      "emd00080|2020-02-16|WootenWalker|false\n",
      "emd00019|2020-02-16|StevensShepard|false\n",
      "emd00076|2020-02-16|RandolphFoster|true\n",
      "emd00073|2020-02-14|WagnerJewel|true\n",
      "emd00045|2020-02-09|BarronLeanne|true\n",
      "emd00030|2020-02-05|HermanVaughan|true\n",
      "emd00028|2020-02-04|WynnCallie|true\n",
      "emd00016|2020-02-03|WootenFreda|true\n",
      "emd00089|2020-01-31|MeyersVelazquez|true\n",
      "emd00026|2020-01-27|RoblesIna|false\n",
      "emd00010|2020-01-26|WellsFaith|true\n",
      "emd00046|2020-01-26|CantrellJeanie|true\n",
      "emd00053|2020-01-24|BryanJustice|true\n",
      "emd00054|2020-01-21|WalshRobbins|true\n",
      "emd00100|2020-01-17|EmersonPeters|false\n",
      "emd00041|2020-01-11|IngramShelton|false\n",
      "emd00076|2020-01-05|ReidGarner|true\n",
      "emd00010|2020-01-04|FarmerLang|true\n",
      "emd00029|2020-01-03|DicksonIsabella|false\n",
      "emd00065|2019-12-30|BlairLe|true\n",
      "emd00020|2019-12-28|BarnesLela|true\n",
      "emd00064|2019-12-27|BaileyRobbie|false\n",
      "emd00037|2019-12-26|LancasterBoyle|false\n",
      "emd00019|2019-12-23|DyerJessie|false\n",
      "emd00017|2019-12-17|GambleBrooks|false\n",
      "emd00072|2019-12-15|MedinaRatliff|true\n",
      "emd00054|2019-12-14|HarrisonGilbert|true\n",
      "emd00093|2019-12-13|MccormickDaniel|true\n",
      "emd00092|2019-12-11|ThomasStone|true\n",
      "emd00061|2019-12-11|GreerSheppard|false\n",
      "emd00098|2019-12-10|VaughanElliott|true\n",
      "emd00042|2019-12-08|OwensGaines|false\n",
      "emd00039|2019-11-27|BowmanCharles|false\n",
      "emd00068|2019-11-24|ShawCarmella|false\n",
      "emd00066|2019-11-24|BishopFrank|false\n",
      "emd00036|2019-11-23|MaddoxKathryn|true\n",
      "emd00087|2019-11-23|RobbinsPacheco|false\n",
      "emd00027|2019-11-22|NixonNadine|false\n",
      "emd00081|2019-11-20|WaltonVillarreal|false\n",
      "emd00094|2019-11-19|McgeeGoldie|true\n",
      "emd00059|2019-11-17|TorresPowers|false\n",
      "emd00079|2019-11-16|StoneDeanne|true\n",
      "emd00070|2019-11-15|AllenDecker|true\n",
      "emd00075|2019-11-14|MillerMathis|false\n",
      "emd00063|2019-11-14|BarkerGeneva|true\n",
      "emd00032|2019-11-09|RosalesEmilia|false\n",
      "emd00055|2019-11-08|WhitakerLula|false\n",
      "emd00051|2019-11-08|PriceBlackburn|false\n",
      "emd00058|2019-11-05|BrayRojas|true\n",
      "emd00060|2019-11-05|CurtisCurtis|true\n",
      "emd00031|2019-11-04|LyonsBanks|true\n",
      "emd00044|2019-11-02|GeorgeVang|true\n",
      "emd00084|2019-10-30|KiddLandry|true\n",
      "emd00043|2019-10-29|HopperSchmidt|false\n",
      "emd00059|2019-10-25|CarneyGraciela|false\n",
      "emd00037|2019-10-22|MayoDawson|false\n",
      "emd00023|2019-10-21|WeeksLouise|true\n",
      "emd00064|2019-10-21|LeeLatonya|true\n",
      "emd00021|2019-10-19|NelsonRobles|false\n",
      "emd00098|2019-10-19|WiseJoanne|false\n",
      "emd00083|2019-10-15|PriceMcknight|true\n",
      "emd00084|2019-10-13|BlevinsDonna|false\n",
      "emd00033|2019-10-12|HudsonHarding|false\n",
      "emd00040|2019-10-08|TranForeman|false\n",
      "emd00006|2019-10-07|KelleyMarla|false\n",
      "emd00025|2019-09-29|KaneLogan|true\n",
      "emd00044|2019-09-28|ZimmermanBell|false\n",
      "emd00083|2019-09-27|McfaddenMaria|false\n",
      "emd00085|2019-09-26|RollinsCombs|true\n",
      "emd00088|2019-09-26|FrancoDeana|false\n",
      "emd00049|2019-09-24|GuerreroMyrna|true\n",
      "emd00018|2019-09-20|LeMeagan|true\n",
      "emd00074|2019-09-20|LaraAyers|false\n",
      "emd00020|2019-09-17|TannerNielsen|false\n",
      "emd00043|2019-09-15|PopeVivian|true\n",
      "emd00069|2019-09-09|SargentTania|false\n",
      "emd00012|2019-09-08|SellersValentine|true\n",
      "emd00086|2019-09-07|JeffersonMaldonado|true\n",
      "emd00038|2019-09-04|NicholsRandall|true\n",
      "emd00081|2019-09-02|MathisHolcomb|true\n",
      "emd00005|2019-09-01|BoltonMckay|false\n",
      "emd00080|2019-08-22|CantrellLatisha|true\n",
      "emd00063|2019-08-17|RussoHunter|false\n",
      "emd00095|2019-08-13|FrenchMay|false\n",
      "emd00047|2019-08-12|FitzpatrickGill|true\n",
      "emd00016|2019-08-11|WebbLiza|true\n",
      "emd00047|2019-08-04|PetersonBrock|true\n",
      "emd00065|2019-08-03|EdwardsChandra|false\n",
      "emd00082|2019-08-03|FlynnAmalia|true\n",
      "emd00002|2019-07-31|PrinceForeman|true\n",
      "emd00017|2019-07-30|DaleWaters|false\n",
      "emd00018|2019-07-27|MayerRebekah|false\n",
      "emd00100|2019-07-21|StarkWiley|true\n",
      "emd00027|2019-07-21|EvansGarrison|true\n",
      "emd00030|2019-07-18|PittmanTorres|false\n",
      "emd00088|2019-07-17|VargasDeann|false\n",
      "emd00059|2019-07-17|WrightBurt|false\n",
      "emd00048|2019-07-15|LawrenceTami|true\n",
      "emd00090|2019-07-15|ToddSofia|true\n",
      "emd00028|2019-07-13|PierceTamera|true\n",
      "emd00036|2019-07-13|HensleyAndrea|true\n",
      "emd00020|2019-07-09|PatelRhea|false\n",
      "emd00098|2019-07-03|HahnLawrence|false\n",
      "emd00057|2019-06-27|RoblesWatson|true\n",
      "emd00085|2019-06-21|SingletonBurton|true\n",
      "emd00006|2019-06-13|DuffyAnnabelle|false\n",
      "emd00062|2019-06-10|ChurchMcdowell|true\n",
      "emd00096|2019-06-09|PerkinsStevenson|true\n",
      "emd00002|2019-06-06|KaufmanHurley|false\n",
      "emd00039|2019-06-06|KlineEve|false\n",
      "emd00035|2019-06-05|RogersCelia|false\n",
      "emd00015|2019-06-01|TalleyAlberta|true\n",
      "emd00075|2019-05-31|BurkeTrujillo|true\n",
      "emd00038|2019-05-30|KennedyCastaneda|true\n",
      "emd00005|2019-05-29|HansenFrieda|false\n",
      "emd00050|2019-05-27|CollierMari|false\n",
      "emd00082|2019-05-25|BairdFaulkner|false\n",
      "emd00045|2019-05-24|TylerKent|true\n",
      "emd00050|2019-05-24|BallardTanya|true\n",
      "emd00071|2019-05-23|MeltonKristi|true\n",
      "emd00030|2019-05-23|EstesYoung|true\n",
      "emd00042|2019-05-19|CarrollJacobs|true\n",
      "emd00032|2019-05-16|ChanLela|false\n",
      "emd00013|2019-05-10|HydeMartha|false\n",
      "emd00048|2019-05-06|JarvisStaci|true\n",
      "emd00015|2019-05-05|StrongLester|false\n",
      "emd00093|2019-05-04|YorkFlynn|true\n",
      "emd00097|2019-05-03|BarberVelasquez|true\n",
      "emd00036|2019-05-01|DiazFreeman|false\n",
      "emd00079|2019-04-30|MelendezAlyssa|true\n",
      "emd00074|2019-04-29|PenaLeticia|true\n",
      "emd00038|2019-04-25|WadeNola|true\n",
      "emd00068|2019-04-24|GilliamFarrell|true\n",
      "emd00014|2019-04-22|StevensonBeck|false\n",
      "emd00014|2019-04-19|HurleyChristina|true\n",
      "emd00087|2019-04-16|KirkReva|false\n",
      "emd00074|2019-04-08|MaxwellHodge|false\n",
      "emd00017|2019-04-05|CraftAvis|true\n",
      "emd00092|2019-04-02|BellBarr|false\n",
      "emd00011|2019-03-29|OsbornMilagros|false\n",
      "emd00053|2019-03-25|ZamoraNewton|true\n",
      "emd00041|2019-03-23|MichaelRosalind|true\n",
      "emd00027|2019-03-14|HaysLaverne|false\n",
      "emd00009|2019-03-13|GoodwinKristen|true\n",
      "emd00008|2019-03-12|CalderonNikki|false\n",
      "emd00060|2019-03-12|HigginsDeirdre|true\n",
      "emd00081|2019-03-02|PettyAnne|true\n",
      "emd00007|2019-03-02|MorrisonDana|true\n",
      "emd00023|2019-02-27|McbrideLangley|false\n",
      "emd00048|2019-02-25|BurksHood|false\n",
      "emd00029|2019-02-12|MeyersMunoz|true\n",
      "emd00051|2019-02-04|FordLisa|true\n",
      "emd00070|2019-02-04|ValentineBishop|true\n",
      "emd00026|2019-02-02|GarrisonJackie|false\n",
      "emd00005|2019-01-30|MorrisJennifer|false\n",
      "emd00028|2019-01-28|EstesHaley|true\n",
      "emd00051|2019-01-28|McdowellVirginia|true\n",
      "emd00071|2019-01-26|PrinceBianca|true\n",
      "emd00067|2019-01-25|GouldMadeleine|false\n",
      "emd00023|2019-01-23|ConradBowers|true\n",
      "emd00078|2019-01-17|McclureKramer|true\n",
      "emd00035|2019-01-13|BernardElisa|true\n",
      "emd00070|2019-01-13|GrahamAgnes|false\n",
      "emd00006|2019-01-12|McneilElena|true\n"
     ]
    }
   ],
   "source": [
    "# Listagem da informação\n",
    "def chaveOrd (bd):\n",
    "    date=bd[1]\n",
    "    return (date) #retorna a data (índice 1 da lista criada anteriormente com a informação)\n",
    "\n",
    "def listarDataset(bd):\n",
    "    bd.sort (key= chaveOrd , reverse=True) #ordena lista de base de dados por ordem cronologica decrescente\n",
    "    print (\"|id     | Data     | Nome        |Aptidão\")\n",
    "    print (\"--------------------------------------------\")\n",
    "    for e in bd:\n",
    "        print (e[0]+\"|\"+e[1]+\"|\"+e[3]+e[2]+\"|\"+ e[11])\n",
    "    return \n",
    "\n",
    "listarDataset(BD)"
   ]
  },
  {
   "cell_type": "markdown",
   "metadata": {},
   "source": [
    "## Consulta de um registo (exercício 3)\n",
    "\n",
    "Especifica uma função que, dado o id de um EMD, coloca a sua informação no monitor."
   ]
  },
  {
   "cell_type": "code",
   "execution_count": 7,
   "metadata": {},
   "outputs": [
    {
     "name": "stdout",
     "output_type": "stream",
     "text": [
      "Aptidão: true\n"
     ]
    }
   ],
   "source": [
    "# Consulta de um registo- devolve apenas o registo\n",
    "def consultarDataset(bd, id): #percorrer a lista até encontrar\n",
    "    i=0\n",
    "    while bd [i][0]!=id:\n",
    "        i+=1\n",
    "    return bd[i][11]\n",
    "print(\"Aptidão: \"+consultarDataset (BD,\"emd00036\"))\n",
    "\n"
   ]
  },
  {
   "cell_type": "markdown",
   "metadata": {},
   "source": [
    "## Modalidades (exercício 4)\n",
    "\n",
    "Especifica um função que dá como resultado uma lista de modalidades ordenada alfabeticamente e sem repetições."
   ]
  },
  {
   "cell_type": "code",
   "execution_count": 8,
   "metadata": {},
   "outputs": [
    {
     "name": "stdout",
     "output_type": "stream",
     "text": [
      "['Andebol', 'Atletismo', 'Badminton', 'Basquetebol', 'BTT', 'Ciclismo', 'Dança', 'Equitação', 'Esgrima', 'Futebol', 'Karaté', 'Orientação', 'Parapente', 'Patinagem', 'Triatlo']\n"
     ]
    }
   ],
   "source": [
    "def ChaveOrd2(bd):\n",
    "    return (bd.lower())\n",
    "def modalidades(bd):\n",
    "    modalidade=[]\n",
    "    for i in bd:\n",
    "        if i[7] not in modalidade :\n",
    "            modalidade.append (i[7])\n",
    "    modalidade.sort (key=ChaveOrd2)\n",
    "    return modalidade\n",
    "    \n",
    "print(modalidades (BD))\n",
    "\n"
   ]
  },
  {
   "cell_type": "markdown",
   "metadata": {},
   "source": [
    "## Distribuição por modalidade (exercício 5)\n",
    "\n",
    "Especifica uma função que dá como resultado uma lista de pares indicando quantos EMD estão registados em cada modalidade."
   ]
  },
  {
   "cell_type": "code",
   "execution_count": 10,
   "metadata": {},
   "outputs": [
    {
     "name": "stdout",
     "output_type": "stream",
     "text": [
      "{'Futebol': 21, 'Basquetebol': 24, 'Dança': 22, 'Equitação': 13, 'Atletismo': 16, 'Esgrima': 15, 'Andebol': 21, 'Badminton': 24, 'Parapente': 17, 'Patinagem': 14, 'BTT': 29, 'Orientação': 17, 'Karaté': 21, 'Triatlo': 23, 'Ciclismo': 23}\n"
     ]
    }
   ],
   "source": [
    "def distribPorModalidade(bd):\n",
    "    distribuicao={}\n",
    "    for emd in bd:\n",
    "        if emd [7] in distribuicao.keys():\n",
    "            distribuicao[emd[7]]=distribuicao[emd[7]]+1\n",
    "        else:\n",
    "            distribuicao [emd[7]]=1\n",
    "    return distribuicao\n",
    "print (distribPorModalidade(BD))"
   ]
  },
  {
   "cell_type": "markdown",
   "metadata": {},
   "source": [
    "## Distribuição por clubes (exercício 6)\n",
    "\n",
    "Especifica uma função que dá como resultado uma lista de pares indicando quantos EMD estão registados por cada clube."
   ]
  },
  {
   "cell_type": "code",
   "execution_count": 11,
   "metadata": {},
   "outputs": [
    {
     "name": "stdout",
     "output_type": "stream",
     "text": [
      "{'AmigosMontanha': 35, 'EDViana': 34, 'SCBraga': 34, 'GDGoma': 26, 'AVCfamalicão': 31, 'Vitoria': 32, 'ABCbraga': 30, 'ACRroriz': 37, 'ACDRcrespos': 41}\n"
     ]
    }
   ],
   "source": [
    "def distribPorClube(bd):\n",
    "    distribuicao={}\n",
    "    for emd in bd:\n",
    "        if emd [8] in distribuicao.keys():\n",
    "            distribuicao[emd[8]]=distribuicao[emd[8]]+1\n",
    "        else:\n",
    "            distribuicao [emd[8]]=1\n",
    "    return distribuicao\n",
    "print (distribPorClube(BD))"
   ]
  },
  {
   "cell_type": "markdown",
   "metadata": {},
   "source": [
    "## Distribuição por ano (exercício 7)\n",
    "\n",
    "Especifica uma função que dá como resultado uma lista de pares indicando quantos EMD estão registados por cada ano."
   ]
  },
  {
   "cell_type": "code",
   "execution_count": 12,
   "metadata": {},
   "outputs": [
    {
     "name": "stdout",
     "output_type": "stream",
     "text": [
      "{'2021': 17, '2020': 138, '2019': 144}\n"
     ]
    }
   ],
   "source": [
    "def distribPorAno(bd):\n",
    "    lista_anos=[]\n",
    "    for i in range (len(bd)-1):\n",
    "        data_split=bd [i][1].split(\"-\")\n",
    "        ano=data_split[0]\n",
    "        lista_anos.append(ano)\n",
    "    distribuicao={}\n",
    "    for ano in lista_anos:\n",
    "        if ano in distribuicao.keys():\n",
    "            distribuicao[ano]=distribuicao [ano]+1\n",
    "        else:\n",
    "            distribuicao [ano]=1\n",
    "    return distribuicao\n",
    "print(distribPorAno(BD))"
   ]
  },
  {
   "cell_type": "markdown",
   "metadata": {},
   "source": [
    "## Distribuição parametrizada (exercício 8)\n",
    "\n",
    "Especifica uma função que permita calcular uma distribuição por qualquer um dos campos da BD."
   ]
  },
  {
   "cell_type": "code",
   "execution_count": 23,
   "metadata": {},
   "outputs": [
    {
     "data": {
      "text/plain": [
       "{'F': 159, 'M': 141}"
      ]
     },
     "execution_count": 23,
     "metadata": {},
     "output_type": "execute_result"
    }
   ],
   "source": [
    "def distrib(bd,campo):\n",
    "    identificador= {\"Idade\": 4,\"Genero\":5,\"Modalidade\":7,\"Clube\":8,\"Federado\":10, \"Resultado\":11}\n",
    "    distribuicao={}\n",
    "    for l in bd:\n",
    "        if l[identificador[campo]] in distribuicao.keys():\n",
    "            distribuicao [l[identificador[campo]]]+=1\n",
    "        else:\n",
    "            distribuicao [l[identificador[campo]]]=1\n",
    "    return distribuicao\n",
    "#campo=\"Genero\"\n",
    "#distrib (BD,campo)"
   ]
  },
  {
   "cell_type": "markdown",
   "metadata": {},
   "source": [
    "# Gráficos\n",
    "\n",
    "## Gráfico da distribuição por modalidade (exercício 9)\n",
    "\n",
    "Especifica uma função que faz o plot dum gráfico com a distribuição de alunos por modalidade."
   ]
  },
  {
   "cell_type": "code",
   "execution_count": 13,
   "metadata": {},
   "outputs": [
    {
     "data": {
      "image/png": "[encoded data removed]",
      "text/plain": [
       "<Figure size 432x288 with 1 Axes>"
      ]
     },
     "metadata": {
      "needs_background": "light"
     },
     "output_type": "display_data"
    }
   ],
   "source": [
    "import matplotlib.pyplot as plt\n",
    "def plotDistribPorModalidade(bd):\n",
    "    fig = plt.figure()\n",
    "    ax = fig.add_axes([2,2,2,2])\n",
    "    x=[]\n",
    "    y=[]\n",
    "    for modalidades in bd:\n",
    "        x.append (modalidades)\n",
    "        y.append (bd[modalidades])\n",
    "    plt.xlabel (\"Modalidades\",color=\"blue\")\n",
    "    plt.title (\"Distribuição por Modalidades\",color=\"blue\")\n",
    "    ax.bar(x,y)\n",
    "    plt.show()\n",
    "plotDistribPorModalidade (distribPorModalidade(BD))"
   ]
  },
  {
   "cell_type": "markdown",
   "metadata": {},
   "source": [
    "## Gráfico duma distribuição qualquer (exercício 10)\n",
    "\n",
    "Especifica uma função que faz o plot dum gráfico com a distribuição passada como argumento.\n",
    "\n",
    "Nota: Que parâmetros são necessários para ter uma função genérica que trace o gráfico para qualquer distribuição?\n"
   ]
  },
  {
   "cell_type": "code",
   "execution_count": 29,
   "metadata": {},
   "outputs": [
    {
     "data": {
      "image/png": "[encoded data removed]",
      "text/plain": [
       "<Figure size 432x288 with 1 Axes>"
      ]
     },
     "metadata": {
      "needs_background": "light"
     },
     "output_type": "display_data"
    }
   ],
   "source": [
    "def plotDistrib(bd,campo):\n",
    "    fig = plt.figure()\n",
    "    ax = fig.add_axes([0,0,1,1])\n",
    "    x=[]\n",
    "    y=[]\n",
    "    distribuicao=distrib(bd,campo)\n",
    "    for l in distribuicao:\n",
    "        x.append (l)\n",
    "        y.append (distribuicao[l])\n",
    "    plt.xlabel (campo ,color=\"blue\")\n",
    "    plt.title (\"Distribuição\",color=\"blue\")\n",
    "    ax.bar(x,y)\n",
    "    plt.show()\n",
    "campo=\"Idade\"\n",
    "plotDistrib (BD,campo)  "
   ]
  },
  {
   "cell_type": "markdown",
   "metadata": {},
   "source": [
    "## Criação de uma interface gráfica\n"
   ]
  },
  {
   "cell_type": "code",
   "execution_count": 1,
   "metadata": {},
   "outputs": [
    {
     "name": "stdout",
     "output_type": "stream",
     "text": [
      "Requirement already satisfied: pysimplegui in c:\\users\\asus\\anaconda3\\lib\\site-packages (4.55.1)\n",
      "Note: you may need to restart the kernel to use updated packages.\n"
     ]
    }
   ],
   "source": [
    "pip install pysimplegui\n"
   ]
  },
  {
   "cell_type": "code",
   "execution_count": 14,
   "metadata": {},
   "outputs": [
    {
     "name": "stdout",
     "output_type": "stream",
     "text": [
      "Listar por modalidades\n",
      "\n",
      "{}\n",
      "Listar por ano\n",
      "\n",
      "{}\n"
     ]
    }
   ],
   "source": [
    "import PySimpleGUI as sg\n",
    "\n",
    "import os \n",
    "#print (os.getcwd())  #ajuda a encontrar a posicao dos datasets\n",
    "base=[]\n",
    "col1=[[sg.Button (\"Carregar Base de Dados\")],\n",
    "      [sg.Button (\"Listar Base de Dados\")],\n",
    "      [sg.Button (\"Fazer procura por id\")],\n",
    "      [sg.Button (\"Modalidades\")],\n",
    "      [sg.Button(\"Distribuição da Base de dados\")],\n",
    "      [sg.Button (\"Sair\")],\n",
    "      [sg.Text(size=(40,2), key=\"_dados_\", font=(\"Helvetica\",16))]\n",
    "]\n",
    "\n",
    "window = sg.Window(\"Base de Dados\", font=\"Helvetiva 24\", default_element_size=(20,1)).Layout(col1)\n",
    "\n",
    "stop = False\n",
    "while not stop:\n",
    "    event, values = window.read()\n",
    "    if (event == sg.WIN_CLOSED or event==\"Sair\"):\n",
    "        stop = True\n",
    "    elif (event == \"Carregar Base de Dados\"):\n",
    "        base.clear()\n",
    "        window.find_element[\"_dados_\".updates(\"A base de dados tem\", len(BD), \"elementos\")]\n",
    "    elif (event == \"Listar Base de Dados\"):\n",
    "        base.clear()\n",
    "        window.find_element[\"_dados_\".updates(listarDataset(BD))] \n",
    "    elif (event == \"Modalidades\"):\n",
    "        base.clear()\n",
    "        window.find_element[\"_dados_\".updates(print(modalidades(BD)))]  \n",
    "    elif (event==\"Listar por Ano\"):\n",
    "        base.clear()\n",
    "        window.find_element[\"_dados_\".updates(print(distribPorAno(BD)))]\n",
    "    elif (event==\"Listar por Modalidades\") :        \n",
    "        base.clear()\n",
    "        window.find_element[\"_dados_\".updates(print(distribPorModalidade(BD)))]\n",
    "    else: \n",
    "        print(event + \"\\n\")\n",
    "        print(values)\n",
    "    \n",
    "        \n",
    "window.close()\n"
   ]
  }
 ],
 "metadata": {
  "interpreter": {
   "hash": "aee8b7b246df8f9039afb4144a1f6fd8d2ca17a180786b69acc140d282b71a49"
  },
  "kernelspec": {
   "display_name": "Python 3",
   "language": "python",
   "name": "python3"
  },
  "language_info": {
   "codemirror_mode": {
    "name": "ipython",
    "version": 3
   },
   "file_extension": ".py",
   "mimetype": "text/x-python",
   "name": "python",
   "nbconvert_exporter": "python",
   "pygments_lexer": "ipython3",
   "version": "3.8.8"
  }
 },
 "nbformat": 4,
 "nbformat_minor": 2
}
