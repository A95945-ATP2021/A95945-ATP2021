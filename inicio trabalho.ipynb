{
 "cells": [
  {
   "cell_type": "markdown",
   "id": "83df802a",
   "metadata": {},
   "source": []
  },
  {
   "cell_type": "code",
   "execution_count": 26,
   "id": "89267a7d",
   "metadata": {},
   "outputs": [
    {
     "data": {
      "text/plain": [
       "'cinemaATP.json'"
      ]
     },
     "execution_count": 26,
     "metadata": {},
     "output_type": "execute_result"
    }
   ],
   "source": [
    "import json\n",
    "\n",
    "def lerDataset (fnome):\n",
    "    f=open (fnome,encoding=\"UTF-8\")\n",
    "    bd=[]\n",
    "    dicjson=json.load(f)\n",
    "    for linha in dicjson:\n",
    "        bd.append(linha)\n",
    "    return (bd)\n",
    "\n",
    "cinema=[]\n",
    "cinema=lerDataset(\"cinemaATP.json\")\n",
    "#print (cinema)\n",
    "\n",
    "#gravar informacao do ficheiro\n",
    "def guardarDataset(bd,fnome):\n",
    "    f=open (fnome,\"w\",encoding=\"UTF-8\")\n",
    "    json.dump (bd,f,ensure_ascii=False,indent=4)\n",
    "guardarDataset(\"cinemaATP.json\",\"BDcinema\")\n",
    "\n",
    "#carregar informacao do ficheiro\n",
    "def carregarBD (fnome):\n",
    "    bd=[]\n",
    "    f=open (fnome,encoding=\"UTF-8\")\n",
    "    bd=json.load (f)\n",
    "    return (bd)\n",
    "carregarBD (\"BDcinema\")"
   ]
  },
  {
   "cell_type": "code",
   "execution_count": null,
   "id": "40d3e6a1",
   "metadata": {},
   "outputs": [],
   "source": []
  }
 ],
 "metadata": {
  "kernelspec": {
   "display_name": "Python 3",
   "language": "python",
   "name": "python3"
  },
  "language_info": {
   "codemirror_mode": {
    "name": "ipython",
    "version": 3
   },
   "file_extension": ".py",
   "mimetype": "text/x-python",
   "name": "python",
   "nbconvert_exporter": "python",
   "pygments_lexer": "ipython3",
   "version": "3.8.8"
  }
 },
 "nbformat": 4,
 "nbformat_minor": 5
}
